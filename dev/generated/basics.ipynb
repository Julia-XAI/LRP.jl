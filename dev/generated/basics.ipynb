{
 "cells": [
  {
   "cell_type": "markdown",
   "source": [
    "# Basic usage of LRP"
   ],
   "metadata": {}
  },
  {
   "cell_type": "markdown",
   "source": [
    "We start out by loading a small convolutional neural network:"
   ],
   "metadata": {}
  },
  {
   "outputs": [],
   "cell_type": "code",
   "source": [
    "using RelevancePropagation\n",
    "using Flux\n",
    "\n",
    "model = Chain(\n",
    "    Chain(\n",
    "        Conv((3, 3), 3 => 8, relu; pad=1),\n",
    "        Conv((3, 3), 8 => 8, relu; pad=1),\n",
    "        MaxPool((2, 2)),\n",
    "        Conv((3, 3), 8 => 16; pad=1),\n",
    "        BatchNorm(16, relu),\n",
    "        Conv((3, 3), 16 => 8, relu; pad=1),\n",
    "        BatchNorm(8, relu),\n",
    "    ),\n",
    "    Chain(Flux.flatten, Dense(2048 => 512, relu), Dropout(0.5), Dense(512 => 100, softmax)),\n",
    ");"
   ],
   "metadata": {},
   "execution_count": 1
  },
  {
   "cell_type": "markdown",
   "source": [
    "This model contains two chains: the convolutional layers and the fully connected layers."
   ],
   "metadata": {}
  },
  {
   "cell_type": "markdown",
   "source": [
    "## Model preparation"
   ],
   "metadata": {}
  },
  {
   "cell_type": "markdown",
   "source": [
    "### Stripping the output softmax\n",
    "When using LRP, it is recommended to explain output logits instead of probabilities.\n",
    "This can be done by stripping the output softmax activation from the model\n",
    "using the `strip_softmax` function:"
   ],
   "metadata": {}
  },
  {
   "outputs": [
    {
     "output_type": "execute_result",
     "data": {
      "text/plain": "Chain(\n  Chain(\n    Conv((3, 3), 3 => 8, relu, pad=1),  \u001b[90m# 224 parameters\u001b[39m\n    Conv((3, 3), 8 => 8, relu, pad=1),  \u001b[90m# 584 parameters\u001b[39m\n    MaxPool((2, 2)),\n    Conv((3, 3), 8 => 16, pad=1),       \u001b[90m# 1_168 parameters\u001b[39m\n    BatchNorm(16, relu),                \u001b[90m# 32 parameters\u001b[39m\u001b[90m, plus 32\u001b[39m\n    Conv((3, 3), 16 => 8, relu, pad=1),  \u001b[90m# 1_160 parameters\u001b[39m\n    BatchNorm(8, relu),                 \u001b[90m# 16 parameters\u001b[39m\u001b[90m, plus 16\u001b[39m\n  ),\n  Chain(\n    Flux.flatten,\n    Dense(2048 => 512, relu),           \u001b[90m# 1_049_088 parameters\u001b[39m\n    Dropout(0.5),\n    Dense(512 => 100),                  \u001b[90m# 51_300 parameters\u001b[39m\n  ),\n) \u001b[90m        # Total: 16 trainable arrays, \u001b[39m1_103_572 parameters,\n\u001b[90m          # plus 4 non-trainable, 48 parameters, summarysize \u001b[39m4.213 MiB."
     },
     "metadata": {},
     "execution_count": 2
    }
   ],
   "cell_type": "code",
   "source": [
    "model = strip_softmax(model)"
   ],
   "metadata": {},
   "execution_count": 2
  },
  {
   "cell_type": "markdown",
   "source": [
    "If you don't remove the output softmax,\n",
    "model checks will fail."
   ],
   "metadata": {}
  },
  {
   "cell_type": "markdown",
   "source": [
    "### Canonizing the model\n",
    "LRP is not invariant to a model's implementation.\n",
    "Applying the `GammaRule` to two linear layers in a row will yield different results\n",
    "than first fusing the two layers into one linear layer and then applying the rule.\n",
    "This fusing is called \"canonization\" and can be done using the `canonize` function:"
   ],
   "metadata": {}
  },
  {
   "outputs": [
    {
     "output_type": "execute_result",
     "data": {
      "text/plain": "Chain(\n  Conv((3, 3), 3 => 8, relu, pad=1),    \u001b[90m# 224 parameters\u001b[39m\n  Conv((3, 3), 8 => 8, relu, pad=1),    \u001b[90m# 584 parameters\u001b[39m\n  MaxPool((2, 2)),\n  Conv((3, 3), 8 => 16, relu, pad=1),   \u001b[90m# 1_168 parameters\u001b[39m\n  Conv((3, 3), 16 => 8, relu, pad=1),   \u001b[90m# 1_160 parameters\u001b[39m\n  BatchNorm(8, relu),                   \u001b[90m# 16 parameters\u001b[39m\u001b[90m, plus 16\u001b[39m\n  Flux.flatten,\n  Dense(2048 => 512, relu),             \u001b[90m# 1_049_088 parameters\u001b[39m\n  Dropout(0.5),\n  Dense(512 => 100),                    \u001b[90m# 51_300 parameters\u001b[39m\n) \u001b[90m        # Total: 14 trainable arrays, \u001b[39m1_103_540 parameters,\n\u001b[90m          # plus 2 non-trainable, 16 parameters, summarysize \u001b[39m4.212 MiB."
     },
     "metadata": {},
     "execution_count": 3
    }
   ],
   "cell_type": "code",
   "source": [
    "model_canonized = canonize(model)"
   ],
   "metadata": {},
   "execution_count": 3
  },
  {
   "cell_type": "markdown",
   "source": [
    "After canonization, the first `BatchNorm` layer has been fused into the preceding `Conv` layer.\n",
    "The second `BatchNorm` layer wasn't fused\n",
    "since its preceding `Conv` layer has a ReLU activation function."
   ],
   "metadata": {}
  },
  {
   "cell_type": "markdown",
   "source": [
    "### Flattening the model\n",
    "RelevancePropagation.jl's LRP implementation supports nested Flux Chains and Parallel layers.\n",
    "However, it is recommended to flatten the model before analyzing it.\n",
    "\n",
    "LRP is implemented by first running a forward pass through the model,\n",
    "keeping track of the intermediate activations, followed by a backward pass\n",
    "that computes the relevances.\n",
    "\n",
    "To keep the LRP implementation simple and maintainable,\n",
    "RelevancePropagation.jl does not pre-compute \"nested\" activations.\n",
    "Instead, for every internal chain, a new forward pass is run to compute activations.\n",
    "\n",
    "By \"flattening\" a model, this overhead can be avoided.\n",
    "For this purpose, RelevancePropagation.jl provides the function `flatten_model`:"
   ],
   "metadata": {}
  },
  {
   "outputs": [
    {
     "output_type": "execute_result",
     "data": {
      "text/plain": "Chain(\n  Conv((3, 3), 3 => 8, relu, pad=1),    \u001b[90m# 224 parameters\u001b[39m\n  Conv((3, 3), 8 => 8, relu, pad=1),    \u001b[90m# 584 parameters\u001b[39m\n  MaxPool((2, 2)),\n  Conv((3, 3), 8 => 16, pad=1),         \u001b[90m# 1_168 parameters\u001b[39m\n  BatchNorm(16, relu),                  \u001b[90m# 32 parameters\u001b[39m\u001b[90m, plus 32\u001b[39m\n  Conv((3, 3), 16 => 8, relu, pad=1),   \u001b[90m# 1_160 parameters\u001b[39m\n  BatchNorm(8, relu),                   \u001b[90m# 16 parameters\u001b[39m\u001b[90m, plus 16\u001b[39m\n  Flux.flatten,\n  Dense(2048 => 512, relu),             \u001b[90m# 1_049_088 parameters\u001b[39m\n  Dropout(0.5),\n  Dense(512 => 100),                    \u001b[90m# 51_300 parameters\u001b[39m\n) \u001b[90m        # Total: 16 trainable arrays, \u001b[39m1_103_572 parameters,\n\u001b[90m          # plus 4 non-trainable, 48 parameters, summarysize \u001b[39m4.212 MiB."
     },
     "metadata": {},
     "execution_count": 4
    }
   ],
   "cell_type": "code",
   "source": [
    "model_flat = flatten_model(model)"
   ],
   "metadata": {},
   "execution_count": 4
  },
  {
   "cell_type": "markdown",
   "source": [
    "This function is called by default when creating an LRP analyzer.\n",
    "Note that we pass the unflattened model to the analyzer, but `analyzer.model` is flattened:"
   ],
   "metadata": {}
  },
  {
   "outputs": [
    {
     "output_type": "execute_result",
     "data": {
      "text/plain": "Chain(\n  Conv((3, 3), 3 => 8, relu, pad=1),    \u001b[90m# 224 parameters\u001b[39m\n  Conv((3, 3), 8 => 8, relu, pad=1),    \u001b[90m# 584 parameters\u001b[39m\n  MaxPool((2, 2)),\n  Conv((3, 3), 8 => 16, pad=1),         \u001b[90m# 1_168 parameters\u001b[39m\n  BatchNorm(16, relu),                  \u001b[90m# 32 parameters\u001b[39m\u001b[90m, plus 32\u001b[39m\n  Conv((3, 3), 16 => 8, relu, pad=1),   \u001b[90m# 1_160 parameters\u001b[39m\n  BatchNorm(8, relu),                   \u001b[90m# 16 parameters\u001b[39m\u001b[90m, plus 16\u001b[39m\n  Flux.flatten,\n  Dense(2048 => 512, relu),             \u001b[90m# 1_049_088 parameters\u001b[39m\n  Dropout(0.5),\n  Dense(512 => 100),                    \u001b[90m# 51_300 parameters\u001b[39m\n) \u001b[90m        # Total: 16 trainable arrays, \u001b[39m1_103_572 parameters,\n\u001b[90m          # plus 4 non-trainable, 48 parameters, summarysize \u001b[39m4.212 MiB."
     },
     "metadata": {},
     "execution_count": 5
    }
   ],
   "cell_type": "code",
   "source": [
    "analyzer = LRP(model)\n",
    "analyzer.model"
   ],
   "metadata": {},
   "execution_count": 5
  },
  {
   "cell_type": "markdown",
   "source": [
    "If this flattening is not desired, it can be disabled\n",
    "by passing the keyword argument `flatten=false` to the `LRP` constructor."
   ],
   "metadata": {}
  },
  {
   "cell_type": "markdown",
   "source": [
    "## LRP rules\n",
    "By default, the `LRP` constructor will assign the `ZeroRule` to all layers."
   ],
   "metadata": {}
  },
  {
   "outputs": [
    {
     "output_type": "execute_result",
     "data": {
      "text/plain": "LRP(\n  Conv((3, 3), 3 => 8, relu, pad=1) \u001b[90m => \u001b[39m\u001b[33mZeroRule()\u001b[39m,\n  Conv((3, 3), 8 => 8, relu, pad=1) \u001b[90m => \u001b[39m\u001b[33mZeroRule()\u001b[39m,\n  MaxPool((2, 2))                   \u001b[90m => \u001b[39m\u001b[33mZeroRule()\u001b[39m,\n  Conv((3, 3), 8 => 16, pad=1)      \u001b[90m => \u001b[39m\u001b[33mZeroRule()\u001b[39m,\n  BatchNorm(16, relu)               \u001b[90m => \u001b[39m\u001b[33mZeroRule()\u001b[39m,\n  Conv((3, 3), 16 => 8, relu, pad=1)\u001b[90m => \u001b[39m\u001b[33mZeroRule()\u001b[39m,\n  BatchNorm(8, relu)                \u001b[90m => \u001b[39m\u001b[33mZeroRule()\u001b[39m,\n  Flux.flatten                      \u001b[90m => \u001b[39m\u001b[33mZeroRule()\u001b[39m,\n  Dense(2048 => 512, relu)          \u001b[90m => \u001b[39m\u001b[33mZeroRule()\u001b[39m,\n  Dropout(0.5)                      \u001b[90m => \u001b[39m\u001b[33mZeroRule()\u001b[39m,\n  Dense(512 => 100)                 \u001b[90m => \u001b[39m\u001b[33mZeroRule()\u001b[39m,\n)"
     },
     "metadata": {},
     "execution_count": 6
    }
   ],
   "cell_type": "code",
   "source": [
    "LRP(model)"
   ],
   "metadata": {},
   "execution_count": 6
  },
  {
   "cell_type": "markdown",
   "source": [
    "This analyzer will return heatmaps that look identical to the `InputTimesGradient` analyzer\n",
    "from [ExplainableAI.jl](https://github.com/Julia-XAI/ExplainableAI.jl)."
   ],
   "metadata": {}
  },
  {
   "cell_type": "markdown",
   "source": [
    "LRP's strength lies in assigning different rules to different layers,\n",
    "based on their functionality in the neural network[^1].\n",
    "RelevancePropagation.jl implements many LRP rules out of the box,\n",
    "but it is also possible to *implement custom rules*.\n",
    "\n",
    "To assign different rules to different layers,\n",
    "use one of the composites presets,\n",
    "or create your own composite, as described in\n",
    "*Assigning rules to layers*."
   ],
   "metadata": {}
  },
  {
   "outputs": [
    {
     "output_type": "execute_result",
     "data": {
      "text/plain": "Composite(\n  GlobalTypeMap(  \u001b[90m# all layers\u001b[39m\n\u001b[94m    Flux.Conv              \u001b[39m => \u001b[33mZPlusRule()\u001b[39m,\n\u001b[94m    Flux.ConvTranspose     \u001b[39m => \u001b[33mZPlusRule()\u001b[39m,\n\u001b[94m    Flux.CrossCor          \u001b[39m => \u001b[33mZPlusRule()\u001b[39m,\n\u001b[94m    Flux.Dense             \u001b[39m => \u001b[33mEpsilonRule{Float32}(1.0f-6)\u001b[39m,\n\u001b[94m    typeof(NNlib.dropout)  \u001b[39m => \u001b[33mPassRule()\u001b[39m,\n\u001b[94m    Flux.AlphaDropout      \u001b[39m => \u001b[33mPassRule()\u001b[39m,\n\u001b[94m    Flux.Dropout           \u001b[39m => \u001b[33mPassRule()\u001b[39m,\n\u001b[94m    Flux.BatchNorm         \u001b[39m => \u001b[33mPassRule()\u001b[39m,\n\u001b[94m    typeof(Flux.flatten)   \u001b[39m => \u001b[33mPassRule()\u001b[39m,\n\u001b[94m    typeof(MLUtils.flatten)\u001b[39m => \u001b[33mPassRule()\u001b[39m,\n\u001b[94m    typeof(identity)       \u001b[39m => \u001b[33mPassRule()\u001b[39m,\n ),\n  FirstLayerTypeMap(  \u001b[90m# first layer\u001b[39m\n\u001b[94m    Flux.Conv         \u001b[39m => \u001b[33mFlatRule()\u001b[39m,\n\u001b[94m    Flux.ConvTranspose\u001b[39m => \u001b[33mFlatRule()\u001b[39m,\n\u001b[94m    Flux.CrossCor     \u001b[39m => \u001b[33mFlatRule()\u001b[39m,\n ),\n)"
     },
     "metadata": {},
     "execution_count": 7
    }
   ],
   "cell_type": "code",
   "source": [
    "composite = EpsilonPlusFlat() # using composite preset EpsilonPlusFlat"
   ],
   "metadata": {},
   "execution_count": 7
  },
  {
   "outputs": [
    {
     "output_type": "execute_result",
     "data": {
      "text/plain": "LRP(\n  Conv((3, 3), 3 => 8, relu, pad=1) \u001b[90m => \u001b[39m\u001b[33mFlatRule()\u001b[39m,\n  Conv((3, 3), 8 => 8, relu, pad=1) \u001b[90m => \u001b[39m\u001b[33mZPlusRule()\u001b[39m,\n  MaxPool((2, 2))                   \u001b[90m => \u001b[39m\u001b[33mZeroRule()\u001b[39m,\n  Conv((3, 3), 8 => 16, pad=1)      \u001b[90m => \u001b[39m\u001b[33mZPlusRule()\u001b[39m,\n  BatchNorm(16, relu)               \u001b[90m => \u001b[39m\u001b[33mPassRule()\u001b[39m,\n  Conv((3, 3), 16 => 8, relu, pad=1)\u001b[90m => \u001b[39m\u001b[33mZPlusRule()\u001b[39m,\n  BatchNorm(8, relu)                \u001b[90m => \u001b[39m\u001b[33mPassRule()\u001b[39m,\n  Flux.flatten                      \u001b[90m => \u001b[39m\u001b[33mPassRule()\u001b[39m,\n  Dense(2048 => 512, relu)          \u001b[90m => \u001b[39m\u001b[33mEpsilonRule{Float32}(1.0f-6)\u001b[39m,\n  Dropout(0.5)                      \u001b[90m => \u001b[39m\u001b[33mPassRule()\u001b[39m,\n  Dense(512 => 100)                 \u001b[90m => \u001b[39m\u001b[33mEpsilonRule{Float32}(1.0f-6)\u001b[39m,\n)"
     },
     "metadata": {},
     "execution_count": 8
    }
   ],
   "cell_type": "code",
   "source": [
    "LRP(model, composite)"
   ],
   "metadata": {},
   "execution_count": 8
  },
  {
   "cell_type": "markdown",
   "source": [
    "## Computing layerwise relevances\n",
    "If you are interested in computing layerwise relevances,\n",
    "call `analyze` with an LRP analyzer and the keyword argument\n",
    "`layerwise_relevances=true`.\n",
    "\n",
    "The layerwise relevances can be accessed in the `extras` field\n",
    "of the returned `Explanation`:"
   ],
   "metadata": {}
  },
  {
   "outputs": [
    {
     "output_type": "execute_result",
     "data": {
      "text/plain": "(Float32[0.10543516 -0.4442176 … -0.1393987 0.11060021; 0.19181737 -0.04243662 … 0.7303161 -0.06467381; … ; -0.49268782 -0.42117605 … -0.93148 0.12347508; -0.67892766 -0.0937604 … -0.083268516 -0.0064460197;;; 0.240328 0.028988786 … 0.06758678 0.04247559; 0.34215933 0.34564346 … 0.18665804 -0.40598363; … ; 0.06750326 0.1853786 … -0.33448184 0.104381725; -0.081786774 0.03329911 … 0.46299142 0.060389243;;; 0.12972552 -0.7342309 … -0.19842994 0.26611173; -0.3062217 -0.0334928 … -0.015513336 -0.030477298; … ; -0.060394317 1.4864994 … 0.30182335 0.057493035; -0.0998743 -0.35631242 … 0.020902116 -0.22835095;;;;], Float32[0.080091365 -0.26018673 … -0.022675224 0.000108767636; 0.25797758 0.01522215 … 0.23741165 0.0; … ; 0.10956542 -0.46330857 … -0.021406641 0.03352753; -0.05190893 -0.09546607 … -0.16380215 -0.0;;; 0.053930026 0.0 … 0.0 -0.0; 0.0 -0.0 … -0.0 0.0; … ; 0.0 0.0 … 0.0 0.0; -0.0 -0.0 … -0.0 -0.03112578;;; 0.0 0.0 … 0.0 0.0; -0.0 -0.18620396 … 0.33904976 0.017594896; … ; -0.0 0.0 … 0.0 0.0; 0.08356658 0.30882117 … 0.103799 0.0318488;;; 0.0 -0.0 … -0.0 -0.0; -0.0 0.0 … 0.0 -0.0; … ; 0.028250562 -0.01745014 … 0.0 -0.0; 0.0 0.0 … 0.009883934 0.0;;; -0.0 -0.20525652 … -0.0 0.0024985042; -0.0 0.15797056 … 0.039669964 -0.05672045; … ; -0.0 0.14152719 … 0.02810929 -0.0; 0.0 0.0 … 0.0 0.01824432;;; -0.0 -0.008520323 … -0.0 -0.0; 0.0076036844 -0.46662968 … 0.057245385 0.019335253; … ; -0.0 -0.82256615 … 0.0 -0.025068086; 0.03856628 0.012017661 … -0.14939804 -0.0016295834;;; 0.015083555 0.103582665 … 0.04884193 -0.028358586; 0.045926783 0.63392574 … -0.054244105 -0.10198844; … ; 0.0 -0.0046334583 … -0.21945633 -0.21009812; 0.0074617267 -0.06007463 … -0.015941324 -0.17410621;;; 0.01816716 0.0 … 0.055166237 0.019399168; 0.0 0.100143805 … 0.0 -0.18132682; … ; -0.029777315 0.0 … 0.0 0.25903928; -0.0 0.0 … 0.25980014 0.093981005;;;;], Float32[0.0 0.0 … 0.08949602 0.0; -0.046624653 0.0 … 0.0 0.0; … ; 0.0 0.0 … 0.100140065 0.0; -0.11413851 0.0 … 0.0 0.0;;; 0.0 -8.770255f-5 … 0.0 0.0; 0.0 0.0 … 0.0 0.0; … ; -0.0004073455 0.0 … 0.0 0.0; 0.0 0.0 … 0.0 0.0;;; 0.0 0.23033166 … 0.0 0.0; 0.0 0.0 … 0.30742946 0.0; … ; 0.0 0.04851451 … 0.44570747 0.0; 0.0 0.0 … 0.0 0.0;;; 0.0 0.0 … 0.0 0.0; 0.20841753 0.0 … -0.117399625 0.0; … ; 0.06950864 0.0 … 0.40308824 0.0; 0.0 0.0 … 0.0 0.0;;; 0.0 0.2534191 … 0.0 0.0; 0.0 0.0 … 0.0 0.093982; … ; 0.39217454 0.0 … 0.8295342 0.0; 0.0 0.0 … 0.0 0.0;;; 0.0 0.0 … 0.0 0.0; 0.0 -0.28110614 … 0.0 0.023509998; … ; 0.0 0.0 … 0.0 0.0; -0.40127996 0.0 … -0.2800231 0.0;;; 0.0 -0.21164635 … 0.0 -0.29368827; 0.0 0.0 … 0.0 0.0; … ; 0.0 0.0 … 0.0 -0.02637585; -0.00063797587 0.0 … 0.0 0.0;;; 0.0 0.0 … 0.0 0.0; -0.06529826 0.0 … 0.124811605 0.0; … ; 0.0 0.0 … 0.0 0.0; 0.000859353 0.0 … 0.11080905 0.0;;;;], Float32[-0.046624653 -0.34408227 … 0.04574754 0.08949602; -0.63524646 -0.36269188 … 0.024021516 -0.06775921; … ; -0.34702057 -0.88302726 … -0.13876113 -0.0; -0.11413851 -0.0095767295 … -0.014459585 0.100140065;;; -8.7703986f-5 0.0 … -0.0 -0.0; -0.030915756 0.0 … -0.0 -0.0; … ; -0.0 -0.0 … -0.0 -0.0; -0.00040734885 -0.0 … -0.0 -0.0;;; 0.23033166 -1.538491 … 1.7758129 0.30742946; -0.2069919 2.1071947 … 0.77437615 0.12540747; … ; 0.16929983 0.28447968 … 1.1057227 -0.20580773; 0.04851451 0.731223 … 0.39848897 0.44570747;;; 0.20841753 -0.9288663 … 0.62795806 -0.117399625; 0.18876174 -0.8234001 … -0.10511932 0.33518353; … ; 0.3988215 0.69642484 … 0.4411725 0.15181608; 0.06950865 1.3327509 … 0.33812958 0.40308824;;; 0.2534191 -0.6675586 … 0.001078101 0.093982; 0.3325833 -1.8587531 … 2.1928473 0.95993054; … ; 0.5768467 0.7815705 … 0.7795839 1.9012501; 0.39217454 1.4812957 … 0.6797029 0.8295342;;; -0.28110614 0.10613359 … -0.42692682 0.023509998; -0.06127112 -2.011071 … -1.6227593 0.014545886; … ; -0.44352886 -1.6333711 … -0.7367472 0.096095935; -0.40127996 -0.8597441 … -0.24684227 -0.2800231;;; -0.21164635 1.142361 … -0.10195701 -0.29368827; -0.039204605 0.28705907 … -0.0 -0.26402804; … ; -0.0 -0.13691814 … -0.0 -0.6141705; -0.0006379774 0.0 … 0.0036346298 -0.02637585;;; -0.06529826 -2.5225232 … 0.39666668 0.124811605; -0.116369225 1.5496472 … 1.2065351 0.6987497; … ; -0.38468623 -0.8463798 … -0.29193476 1.4053484; 0.000859353 0.09339251 … 0.1397752 0.11080905;;;;], Float32[-0.0001237947 -0.00035128437 … 2.3639146f-5 0.000871326; -0.00045849057 -0.00046671933 … -0.00045509686 -0.00047321472; … ; 0.00043200774 0.0006260906 … 0.000499771 -0.00040147008; -0.00047290992 0.0011902972 … 0.0010117927 0.00027383433;;; 0.044882096 -0.00030823366 … -0.00035824854 0.00019942394; 0.018209456 -0.0024792948 … -0.00034419895 0.004399644; … ; 0.010406003 0.0023044762 … -1.39297235f-5 0.0018870854; 0.0062571806 -0.00029020896 … -0.00011216756 -0.00028391767;;; 0.0 -0.0 … 0.0 0.0; 0.0 -0.0 … -0.0 0.0; … ; -0.0 -0.0 … -0.0 0.0; -0.0 -0.0 … 0.0 0.0;;; … ;;; -2.7250526f-5 -3.8462273f-5 … -0.000648164 0.0002292357; -1.5151535f-5 2.9287286f-5 … 2.6494014f-5 -0.00014276813; … ; 1.9847488f-5 4.7664787f-7 … -0.00024286588 -0.00012883288; -7.079989f-5 -0.00040575632 … -2.8642458f-5 -5.0764644f-5;;; -9.589254f-5 -0.00010606916 … -0.00011999765 -0.000119626166; -0.009068364 -0.00010747814 … -4.7395482f-5 -1.0430144f-5; … ; -0.00011752072 -0.000118643235 … 9.56301f-5 -8.9203924f-5; -0.00025137802 0.0002172316 … -0.000107962405 -2.6791506f-5;;; -0.0047371592 -0.012729329 … -0.0070924456 -0.0037973092; -0.01758098 0.0034972674 … -0.0011279187 -0.016475432; … ; -0.0013810096 -0.0025588681 … -0.0033145328 0.012450908; -0.013524948 -0.005424574 … 0.006563837 -0.00068005343;;;;], Float32[0.0 0.0 … -0.00043408337 2.9482655f-5; -0.0 -0.0 … 0.0 -0.0; … ; -0.0 0.0 … -0.0 -0.0; -0.0 -0.0 … 0.0 0.0;;; 0.041620534 -0.0 … 0.0 -0.0; 0.020300386 -0.0053853085 … -0.0 0.0; … ; 0.009343449 0.0064370115 … 0.0 0.0; 0.005469685 0.0 … -0.0 -0.0;;; -0.0 0.0 … -0.0 -0.0; -0.0 -0.0 … -0.0 -0.0; … ; 0.0 0.0 … 0.0 -0.0; 0.0 -0.0 … -0.0 -0.0;;; … ;;; 7.697239f-5 0.00044772628 … -0.0011292867 0.0012517145; 2.0454365f-5 0.0006280956 … -0.0 0.0; … ; -0.0 -0.0 … 0.0 0.0; -0.0 0.0 … 0.0 0.0;;; 0.0 0.0 … 0.0 0.0; -0.017623514 -0.0 … -0.0 0.0; … ; -0.0 -0.0 … -0.0 -0.0; -0.0016057569 0.0009966919 … 0.0 -0.0;;; -0.008208724 -0.016968789 … -0.009207338 -0.004404511; 0.0 0.0017873165 … -0.002302554 -0.019624908; … ; -0.0 -0.0 … -0.0 0.008122239; 0.0 0.0 … 0.0045022033 0.0;;;;], Float32[0.0 -0.001188995 … -1.2589928f-6 -5.496684f-6; 0.0 0.0 … 0.0 0.0; … ; 0.0 0.0 … 0.0 0.0; 0.0 0.0 … 0.0 0.0;;; -0.0059565865 -0.027606498 … -0.0 -0.0; -0.031299885 -0.034957707 … -0.014441944 -0.00088913174; … ; -0.022999832 -0.0058865948 … -0.016302476 -0.007972452; -0.014678722 -0.024649838 … -0.0074906587 -0.022422755;;; 0.0 0.0 … 0.0 0.0; 0.025347557 0.08022294 … -0.0029531547 0.0034888312; … ; 0.0 0.000514434 … 0.068288215 0.0035552; 0.0022186511 0.0 … 0.0011622489 0.03593518;;; -0.0 -0.007219434 … -0.0 -0.0; 0.019267328 -0.0 … -0.0 -0.0; … ; -0.0040030377 -0.0 … -0.0 -0.0; 1.3577678f-5 -0.0 … -0.0 -0.0;;; -0.019815316 -0.016602263 … -0.015503847 -0.0; -0.0 0.009451024 … -0.0 -0.0; … ; -2.088191f-6 0.016737219 … -0.0 -0.0; -0.0062538073 -0.0 … -0.0 -0.0;;; -0.0 0.0 … -0.0 -0.0; 0.0 -0.0 … -0.0 0.0; … ; 0.0 -0.0 … -0.0 0.0; -0.0 0.0 … -0.0 0.0;;; 0.0 0.0 … 0.0 -0.00535705; 0.0 0.0 … 0.0 0.0; … ; 0.0 0.0 … 0.0 0.0; 0.0 0.0 … -0.004091254 0.0;;; -0.0 -0.0 … -0.0 -0.0; 0.0030370413 -0.0 … -0.0 -0.0; … ; 0.002922654 -0.0 … -0.0 -0.0; 0.019079428 0.0023340452 … -0.0 -0.0;;;;], Float32[0.0 0.0007571248 … 0.00013370652 -0.00021304996; 0.0 -0.0 … -0.0 0.0; … ; -0.0 0.0 … 0.0 -0.0; 0.0 0.0 … 0.0 0.0;;; -0.0039739837 0.0008413777 … 0.0 -0.0; -0.016765129 0.02279746 … 0.014139037 7.5644864f-5; … ; -0.015554975 -0.007660713 … 0.0014488427 -0.0039267386; 0.00027373293 0.02318762 … -0.00071854994 -0.007265353;;; 0.0 0.0 … -0.0 -0.0; 0.0053776167 0.053213015 … -0.004500559 -0.0008040163; … ; -0.0 -0.0017841378 … 0.024514928 -0.0067305127; 0.0027667389 0.0 … 0.00082295464 0.019391842;;; 0.0 -0.003343567 … -0.0 -0.0; 0.012530339 0.0 … 0.0 -0.0; … ; -0.004027612 -0.0 … -0.0 -0.0; 0.0009257077 0.0 … -0.0 0.0;;; -0.015994487 -0.013314439 … -0.009520351 -0.0; 0.0 0.006840079 … 0.0 -0.0; … ; -9.280462f-5 0.014812882 … 0.0 -0.0; -0.0035537255 -0.0 … 0.0 -0.0;;; -0.0 0.0 … -0.0 -0.0; 0.0 -0.0 … -0.0 0.0; … ; 0.0 -0.0 … -0.0 0.0; -0.0 0.0 … -0.0 0.0;;; -0.0 -0.0 … -0.0 -0.007974961; 0.0 0.0 … -0.0 0.0; … ; -0.0 0.0 … -0.0 -0.0; -0.0 0.0 … -0.004060244 0.0;;; -0.0 -0.0 … -0.0 -0.0; 0.0036834686 0.0 … 0.0 -0.0; … ; 0.0041250037 -0.0 … -0.0 0.0; 0.023149146 0.0037409274 … -0.0 -0.0;;;;], Float32[0.0; 0.0; … ; 0.0; -0.0;;], Float32[0.0; 0.000998625; … ; 0.039935887; -0.00996019;;], Float32[0.0; 0.000998625; … ; 0.039935887; -0.00996019;;], Float32[0.0; 0.0; … ; 0.0; 0.0;;])"
     },
     "metadata": {},
     "execution_count": 9
    }
   ],
   "cell_type": "code",
   "source": [
    "input = rand(Float32, 32, 32, 3, 1) # dummy input for our convolutional neural network\n",
    "\n",
    "expl = analyze(input, analyzer; layerwise_relevances=true)\n",
    "expl.extras.layerwise_relevances"
   ],
   "metadata": {},
   "execution_count": 9
  },
  {
   "cell_type": "markdown",
   "source": [
    "Note that the layerwise relevances are only kept for layers in the outermost `Chain` of the model.\n",
    "When using our unflattened model, we only obtain three layerwise relevances,\n",
    "one for each chain in the model and the output relevance:"
   ],
   "metadata": {}
  },
  {
   "outputs": [
    {
     "output_type": "execute_result",
     "data": {
      "text/plain": "(Float32[0.1630337 0.07048022 … -0.22331412 0.101666644; 0.9868352 -0.05441259 … 0.35954505 -0.118962854; … ; -0.44017035 -0.13457596 … 0.9675677 -0.33731306; -0.7123714 0.026473083 … -0.43812892 -0.04733833;;; 1.2847998 -0.23320584 … 0.22269312 -0.046228215; 0.17776051 0.37931493 … 0.19139051 -0.15584414; … ; -0.06752412 0.10527435 … 0.1330822 0.07434288; -0.011555097 0.0342866 … 0.76031476 1.1185799;;; -0.0060616666 0.61483413 … -0.19334362 0.4765731; -0.21668887 0.6676783 … -0.015926726 -0.014652152; … ; -0.15624376 1.6309012 … 0.36379173 -0.13535132; -0.072863996 -0.33600077 … 0.03925411 -0.02818703;;;;], Float32[-0.0 -0.00040921138 … -2.3690498f-5 0.0005173217; -0.0 -0.0 … -0.0 0.0; … ; -0.0 -0.0 … 0.0 0.0; -0.0 -0.0 … -0.0 0.0;;; 0.0 0.0028046593 … -0.0 0.0; -0.013054907 -0.0012972739 … 0.0033569387 0.0; … ; 0.002130257 -0.0 … 7.795782f-5 0.0013698367; 0.012444792 -0.019871404 … -1.3243112f-5 0.0007394659;;; -0.0 0.0 … 0.0 -0.0; -0.0032489677 0.07662335 … -0.00975532 0.00046019483; … ; -0.0 -0.0 … 0.007269039 -0.0063641416; -0.0056133224 0.0 … -0.0 0.0076436936;;; 0.0 -0.00010251087 … 0.0 0.0; 0.034321338 0.00013819929 … 0.0 0.0; … ; 0.00026681408 -0.0 … 0.0 -0.0; 0.002381129 -0.0 … 0.0 0.0;;; 0.018119114 -0.005543419 … -0.009206413 -0.0; 0.0 0.009328253 … 0.0 0.0; … ; 0.0013465516 0.01935775 … 0.0 -0.0; 0.0008588888 0.0 … 0.0 0.0;;; 0.0 -0.0 … -0.0 -0.0; -0.0 0.0 … 0.0 0.0; … ; -0.0 0.0 … 0.0 0.0; -0.0 0.0 … -0.0 -0.0;;; 0.0 -0.0 … 0.0 0.02226425; 0.0 -0.0 … 0.0 -0.0; … ; 0.0 0.0 … -0.0 -0.0; -0.0 0.0 … 0.0018824772 -0.0;;; 0.0 0.0 … -0.0 0.0; -0.0064042476 0.0 … 0.0 -0.0; … ; 0.006248712 0.0 … 0.0 0.0; -0.0093802735 -0.006670322 … -0.0 -0.0;;;;], Float32[0.0; 0.0; … ; 0.0; 0.0;;])"
     },
     "metadata": {},
     "execution_count": 10
    }
   ],
   "cell_type": "code",
   "source": [
    "analyzer = LRP(model; flatten=false) # use unflattened model\n",
    "\n",
    "expl = analyze(input, analyzer; layerwise_relevances=true)\n",
    "expl.extras.layerwise_relevances"
   ],
   "metadata": {},
   "execution_count": 10
  },
  {
   "cell_type": "markdown",
   "source": [
    "## Performance tips\n",
    "### Using LRP with a GPU\n",
    "All LRP analyzers support GPU backends,\n",
    "building on top of [Flux.jl's GPU support](https://fluxml.ai/Flux.jl/stable/gpu/).\n",
    "Using a GPU only requires moving the input array and model weights to the GPU.\n",
    "\n",
    "For example, using [CUDA.jl](https://github.com/JuliaGPU/CUDA.jl):"
   ],
   "metadata": {}
  },
  {
   "cell_type": "markdown",
   "source": [
    "```julia\n",
    "using CUDA, cuDNN\n",
    "using Flux\n",
    "using ExplainableAI\n",
    "\n",
    "# move input array and model weights to GPU\n",
    "input = input |> gpu # or gpu(input)\n",
    "model = model |> gpu # or gpu(model)\n",
    "\n",
    "# analyzers don't require calling `gpu`\n",
    "analyzer = LRP(model)\n",
    "\n",
    "# explanations are computed on the GPU\n",
    "expl = analyze(input, analyzer)\n",
    "```"
   ],
   "metadata": {}
  },
  {
   "cell_type": "markdown",
   "source": [
    "Some operations, like saving, require moving explanations back to the CPU.\n",
    "This can be done using Flux's `cpu` function:"
   ],
   "metadata": {}
  },
  {
   "cell_type": "markdown",
   "source": [
    "```julia\n",
    "val = expl.val |> cpu # or cpu(expl.val)\n",
    "\n",
    "using BSON\n",
    "BSON.@save \"explanation.bson\" val\n",
    "```\n",
    "\n",
    "### Using LRP without a GPU\n",
    "Using Julia's package extension mechanism,\n",
    "RelevancePropagation.jl's LRP implementation can optionally make use of\n",
    "[Tullio.jl](https://github.com/mcabbott/Tullio.jl) and\n",
    "[LoopVectorization.jl](https://github.com/JuliaSIMD/LoopVectorization.jl)\n",
    "for faster LRP rules on dense layers.\n",
    "\n",
    "This only requires loading the packages before loading RelevancePropagation.jl:\n",
    "```julia\n",
    "using LoopVectorization, Tullio\n",
    "using RelevancePropagation\n",
    "```\n",
    "\n",
    "[^1]: G. Montavon et al., [Layer-Wise Relevance Propagation: An Overview](https://link.springer.com/chapter/10.1007/978-3-030-28954-6_10)"
   ],
   "metadata": {}
  },
  {
   "cell_type": "markdown",
   "source": [
    "---\n",
    "\n",
    "*This notebook was generated using [Literate.jl](https://github.com/fredrikekre/Literate.jl).*"
   ],
   "metadata": {}
  }
 ],
 "nbformat_minor": 3,
 "metadata": {
  "language_info": {
   "file_extension": ".jl",
   "mimetype": "application/julia",
   "name": "julia",
   "version": "1.10.0"
  },
  "kernelspec": {
   "name": "julia-1.10",
   "display_name": "Julia 1.10.0",
   "language": "julia"
  }
 },
 "nbformat": 4
}
