{
 "cells": [
  {
   "cell_type": "markdown",
   "source": [
    "# Basic usage of LRP"
   ],
   "metadata": {}
  },
  {
   "cell_type": "markdown",
   "source": [
    "We start out by loading a small convolutional neural network:"
   ],
   "metadata": {}
  },
  {
   "outputs": [],
   "cell_type": "code",
   "source": [
    "using RelevancePropagation\n",
    "using Flux\n",
    "\n",
    "model = Chain(\n",
    "    Chain(\n",
    "        Conv((3, 3), 3 => 8, relu; pad=1),\n",
    "        Conv((3, 3), 8 => 8, relu; pad=1),\n",
    "        MaxPool((2, 2)),\n",
    "        Conv((3, 3), 8 => 16; pad=1),\n",
    "        BatchNorm(16, relu),\n",
    "        Conv((3, 3), 16 => 8, relu; pad=1),\n",
    "        BatchNorm(8, relu),\n",
    "    ),\n",
    "    Chain(Flux.flatten, Dense(2048 => 512, relu), Dropout(0.5), Dense(512 => 100, softmax)),\n",
    ");"
   ],
   "metadata": {},
   "execution_count": 1
  },
  {
   "cell_type": "markdown",
   "source": [
    "This model contains two chains: the convolutional layers and the fully connected layers."
   ],
   "metadata": {}
  },
  {
   "cell_type": "markdown",
   "source": [
    "## Model preparation\n",
    "### Stripping the output softmax\n",
    "When using LRP, it is recommended to explain output logits instead of probabilities.\n",
    "This can be done by stripping the output softmax activation from the model\n",
    "using the `strip_softmax` function:"
   ],
   "metadata": {}
  },
  {
   "outputs": [
    {
     "output_type": "execute_result",
     "data": {
      "text/plain": "Chain(\n  Chain(\n    Conv((3, 3), 3 => 8, relu, pad=1),  \u001b[90m# 224 parameters\u001b[39m\n    Conv((3, 3), 8 => 8, relu, pad=1),  \u001b[90m# 584 parameters\u001b[39m\n    MaxPool((2, 2)),\n    Conv((3, 3), 8 => 16, pad=1),       \u001b[90m# 1_168 parameters\u001b[39m\n    BatchNorm(16, relu),                \u001b[90m# 32 parameters\u001b[39m\u001b[90m, plus 32\u001b[39m\n    Conv((3, 3), 16 => 8, relu, pad=1),  \u001b[90m# 1_160 parameters\u001b[39m\n    BatchNorm(8, relu),                 \u001b[90m# 16 parameters\u001b[39m\u001b[90m, plus 16\u001b[39m\n  ),\n  Chain(\n    Flux.flatten,\n    Dense(2048 => 512, relu),           \u001b[90m# 1_049_088 parameters\u001b[39m\n    Dropout(0.5),\n    Dense(512 => 100),                  \u001b[90m# 51_300 parameters\u001b[39m\n  ),\n) \u001b[90m        # Total: 16 trainable arrays, \u001b[39m1_103_572 parameters,\n\u001b[90m          # plus 4 non-trainable, 48 parameters, summarysize \u001b[39m4.213 MiB."
     },
     "metadata": {},
     "execution_count": 2
    }
   ],
   "cell_type": "code",
   "source": [
    "model = strip_softmax(model)"
   ],
   "metadata": {},
   "execution_count": 2
  },
  {
   "cell_type": "markdown",
   "source": [
    "If you don't remove the output softmax,\n",
    "model checks will fail."
   ],
   "metadata": {}
  },
  {
   "cell_type": "markdown",
   "source": [
    "### Canonizing the model\n",
    "LRP is not invariant to a model's implementation.\n",
    "Applying the `GammaRule` to two linear layers in a row will yield different results\n",
    "than first fusing the two layers into one linear layer and then applying the rule.\n",
    "This fusing is called \"canonization\" and can be done using the `canonize` function:"
   ],
   "metadata": {}
  },
  {
   "outputs": [
    {
     "output_type": "execute_result",
     "data": {
      "text/plain": "Chain(\n  Conv((3, 3), 3 => 8, relu, pad=1),    \u001b[90m# 224 parameters\u001b[39m\n  Conv((3, 3), 8 => 8, relu, pad=1),    \u001b[90m# 584 parameters\u001b[39m\n  MaxPool((2, 2)),\n  Conv((3, 3), 8 => 16, relu, pad=1),   \u001b[90m# 1_168 parameters\u001b[39m\n  Conv((3, 3), 16 => 8, relu, pad=1),   \u001b[90m# 1_160 parameters\u001b[39m\n  BatchNorm(8, relu),                   \u001b[90m# 16 parameters\u001b[39m\u001b[90m, plus 16\u001b[39m\n  Flux.flatten,\n  Dense(2048 => 512, relu),             \u001b[90m# 1_049_088 parameters\u001b[39m\n  Dropout(0.5),\n  Dense(512 => 100),                    \u001b[90m# 51_300 parameters\u001b[39m\n) \u001b[90m        # Total: 14 trainable arrays, \u001b[39m1_103_540 parameters,\n\u001b[90m          # plus 2 non-trainable, 16 parameters, summarysize \u001b[39m4.212 MiB."
     },
     "metadata": {},
     "execution_count": 3
    }
   ],
   "cell_type": "code",
   "source": [
    "model_canonized = canonize(model)"
   ],
   "metadata": {},
   "execution_count": 3
  },
  {
   "cell_type": "markdown",
   "source": [
    "After canonization, the first `BatchNorm` layer has been fused into the preceding `Conv` layer.\n",
    "The second `BatchNorm` layer wasn't fused\n",
    "since its preceding `Conv` layer has a ReLU activation function."
   ],
   "metadata": {}
  },
  {
   "cell_type": "markdown",
   "source": [
    "### Flattening the model\n",
    "RelevancePropagation.jl's LRP implementation supports nested Flux Chains and Parallel layers.\n",
    "However, it is recommended to flatten the model before analyzing it.\n",
    "\n",
    "LRP is implemented by first running a forward pass through the model,\n",
    "keeping track of the intermediate activations, followed by a backward pass\n",
    "that computes the relevances.\n",
    "\n",
    "To keep the LRP implementation simple and maintainable,\n",
    "RelevancePropagation.jl does not pre-compute \"nested\" activations.\n",
    "Instead, for every internal chain, a new forward pass is run to compute activations.\n",
    "\n",
    "By \"flattening\" a model, this overhead can be avoided.\n",
    "For this purpose, RelevancePropagation.jl provides the function `flatten_model`:"
   ],
   "metadata": {}
  },
  {
   "outputs": [
    {
     "output_type": "execute_result",
     "data": {
      "text/plain": "Chain(\n  Conv((3, 3), 3 => 8, relu, pad=1),    \u001b[90m# 224 parameters\u001b[39m\n  Conv((3, 3), 8 => 8, relu, pad=1),    \u001b[90m# 584 parameters\u001b[39m\n  MaxPool((2, 2)),\n  Conv((3, 3), 8 => 16, pad=1),         \u001b[90m# 1_168 parameters\u001b[39m\n  BatchNorm(16, relu),                  \u001b[90m# 32 parameters\u001b[39m\u001b[90m, plus 32\u001b[39m\n  Conv((3, 3), 16 => 8, relu, pad=1),   \u001b[90m# 1_160 parameters\u001b[39m\n  BatchNorm(8, relu),                   \u001b[90m# 16 parameters\u001b[39m\u001b[90m, plus 16\u001b[39m\n  Flux.flatten,\n  Dense(2048 => 512, relu),             \u001b[90m# 1_049_088 parameters\u001b[39m\n  Dropout(0.5),\n  Dense(512 => 100),                    \u001b[90m# 51_300 parameters\u001b[39m\n) \u001b[90m        # Total: 16 trainable arrays, \u001b[39m1_103_572 parameters,\n\u001b[90m          # plus 4 non-trainable, 48 parameters, summarysize \u001b[39m4.212 MiB."
     },
     "metadata": {},
     "execution_count": 4
    }
   ],
   "cell_type": "code",
   "source": [
    "model_flat = flatten_model(model)"
   ],
   "metadata": {},
   "execution_count": 4
  },
  {
   "cell_type": "markdown",
   "source": [
    "This function is called by default when creating an LRP analyzer.\n",
    "Note that we pass the unflattened model to the analyzer, but `analyzer.model` is flattened:"
   ],
   "metadata": {}
  },
  {
   "outputs": [
    {
     "output_type": "execute_result",
     "data": {
      "text/plain": "Chain(\n  Conv((3, 3), 3 => 8, relu, pad=1),    \u001b[90m# 224 parameters\u001b[39m\n  Conv((3, 3), 8 => 8, relu, pad=1),    \u001b[90m# 584 parameters\u001b[39m\n  MaxPool((2, 2)),\n  Conv((3, 3), 8 => 16, pad=1),         \u001b[90m# 1_168 parameters\u001b[39m\n  BatchNorm(16, relu),                  \u001b[90m# 32 parameters\u001b[39m\u001b[90m, plus 32\u001b[39m\n  Conv((3, 3), 16 => 8, relu, pad=1),   \u001b[90m# 1_160 parameters\u001b[39m\n  BatchNorm(8, relu),                   \u001b[90m# 16 parameters\u001b[39m\u001b[90m, plus 16\u001b[39m\n  Flux.flatten,\n  Dense(2048 => 512, relu),             \u001b[90m# 1_049_088 parameters\u001b[39m\n  Dropout(0.5),\n  Dense(512 => 100),                    \u001b[90m# 51_300 parameters\u001b[39m\n) \u001b[90m        # Total: 16 trainable arrays, \u001b[39m1_103_572 parameters,\n\u001b[90m          # plus 4 non-trainable, 48 parameters, summarysize \u001b[39m4.212 MiB."
     },
     "metadata": {},
     "execution_count": 5
    }
   ],
   "cell_type": "code",
   "source": [
    "analyzer = LRP(model)\n",
    "analyzer.model"
   ],
   "metadata": {},
   "execution_count": 5
  },
  {
   "cell_type": "markdown",
   "source": [
    "If this flattening is not desired, it can be disabled\n",
    "by passing the keyword argument `flatten=false` to the `LRP` constructor."
   ],
   "metadata": {}
  },
  {
   "cell_type": "markdown",
   "source": [
    "## LRP rules\n",
    "By default, the `LRP` constructor will assign the `ZeroRule` to all layers."
   ],
   "metadata": {}
  },
  {
   "outputs": [
    {
     "output_type": "execute_result",
     "data": {
      "text/plain": "LRP(\n  Conv((3, 3), 3 => 8, relu, pad=1) \u001b[90m => \u001b[39m\u001b[33mZeroRule()\u001b[39m,\n  Conv((3, 3), 8 => 8, relu, pad=1) \u001b[90m => \u001b[39m\u001b[33mZeroRule()\u001b[39m,\n  MaxPool((2, 2))                   \u001b[90m => \u001b[39m\u001b[33mZeroRule()\u001b[39m,\n  Conv((3, 3), 8 => 16, pad=1)      \u001b[90m => \u001b[39m\u001b[33mZeroRule()\u001b[39m,\n  BatchNorm(16, relu)               \u001b[90m => \u001b[39m\u001b[33mZeroRule()\u001b[39m,\n  Conv((3, 3), 16 => 8, relu, pad=1)\u001b[90m => \u001b[39m\u001b[33mZeroRule()\u001b[39m,\n  BatchNorm(8, relu)                \u001b[90m => \u001b[39m\u001b[33mZeroRule()\u001b[39m,\n  Flux.flatten                      \u001b[90m => \u001b[39m\u001b[33mZeroRule()\u001b[39m,\n  Dense(2048 => 512, relu)          \u001b[90m => \u001b[39m\u001b[33mZeroRule()\u001b[39m,\n  Dropout(0.5)                      \u001b[90m => \u001b[39m\u001b[33mZeroRule()\u001b[39m,\n  Dense(512 => 100)                 \u001b[90m => \u001b[39m\u001b[33mZeroRule()\u001b[39m,\n)"
     },
     "metadata": {},
     "execution_count": 6
    }
   ],
   "cell_type": "code",
   "source": [
    "LRP(model)"
   ],
   "metadata": {},
   "execution_count": 6
  },
  {
   "cell_type": "markdown",
   "source": [
    "This analyzer will return heatmaps that look identical to the `InputTimesGradient` analyzer\n",
    "from [ExplainableAI.jl](https://github.com/Julia-XAI/ExplainableAI.jl)."
   ],
   "metadata": {}
  },
  {
   "cell_type": "markdown",
   "source": [
    "LRP's strength lies in assigning different rules to different layers,\n",
    "based on their functionality in the neural network[^1].\n",
    "RelevancePropagation.jl implements many LRP rules out of the box,\n",
    "but it is also possible to *implement custom rules*.\n",
    "\n",
    "To assign different rules to different layers,\n",
    "use one of the composites presets,\n",
    "or create your own composite, as described in\n",
    "*Assigning rules to layers*."
   ],
   "metadata": {}
  },
  {
   "outputs": [
    {
     "output_type": "execute_result",
     "data": {
      "text/plain": "Composite(\n  GlobalTypeMap(  \u001b[90m# all layers\u001b[39m\n\u001b[94m    Flux.Conv              \u001b[39m => \u001b[33mZPlusRule()\u001b[39m,\n\u001b[94m    Flux.ConvTranspose     \u001b[39m => \u001b[33mZPlusRule()\u001b[39m,\n\u001b[94m    Flux.CrossCor          \u001b[39m => \u001b[33mZPlusRule()\u001b[39m,\n\u001b[94m    Flux.Dense             \u001b[39m => \u001b[33mEpsilonRule{Float32}(1.0f-6)\u001b[39m,\n\u001b[94m    typeof(NNlib.dropout)  \u001b[39m => \u001b[33mPassRule()\u001b[39m,\n\u001b[94m    Flux.AlphaDropout      \u001b[39m => \u001b[33mPassRule()\u001b[39m,\n\u001b[94m    Flux.Dropout           \u001b[39m => \u001b[33mPassRule()\u001b[39m,\n\u001b[94m    Flux.BatchNorm         \u001b[39m => \u001b[33mPassRule()\u001b[39m,\n\u001b[94m    typeof(Flux.flatten)   \u001b[39m => \u001b[33mPassRule()\u001b[39m,\n\u001b[94m    typeof(MLUtils.flatten)\u001b[39m => \u001b[33mPassRule()\u001b[39m,\n\u001b[94m    typeof(identity)       \u001b[39m => \u001b[33mPassRule()\u001b[39m,\n ),\n  FirstLayerTypeMap(  \u001b[90m# first layer\u001b[39m\n\u001b[94m    Flux.Conv         \u001b[39m => \u001b[33mFlatRule()\u001b[39m,\n\u001b[94m    Flux.ConvTranspose\u001b[39m => \u001b[33mFlatRule()\u001b[39m,\n\u001b[94m    Flux.CrossCor     \u001b[39m => \u001b[33mFlatRule()\u001b[39m,\n ),\n)"
     },
     "metadata": {},
     "execution_count": 7
    }
   ],
   "cell_type": "code",
   "source": [
    "composite = EpsilonPlusFlat() # using composite preset EpsilonPlusFlat"
   ],
   "metadata": {},
   "execution_count": 7
  },
  {
   "outputs": [
    {
     "output_type": "execute_result",
     "data": {
      "text/plain": "LRP(\n  Conv((3, 3), 3 => 8, relu, pad=1) \u001b[90m => \u001b[39m\u001b[33mFlatRule()\u001b[39m,\n  Conv((3, 3), 8 => 8, relu, pad=1) \u001b[90m => \u001b[39m\u001b[33mZPlusRule()\u001b[39m,\n  MaxPool((2, 2))                   \u001b[90m => \u001b[39m\u001b[33mZeroRule()\u001b[39m,\n  Conv((3, 3), 8 => 16, pad=1)      \u001b[90m => \u001b[39m\u001b[33mZPlusRule()\u001b[39m,\n  BatchNorm(16, relu)               \u001b[90m => \u001b[39m\u001b[33mPassRule()\u001b[39m,\n  Conv((3, 3), 16 => 8, relu, pad=1)\u001b[90m => \u001b[39m\u001b[33mZPlusRule()\u001b[39m,\n  BatchNorm(8, relu)                \u001b[90m => \u001b[39m\u001b[33mPassRule()\u001b[39m,\n  Flux.flatten                      \u001b[90m => \u001b[39m\u001b[33mPassRule()\u001b[39m,\n  Dense(2048 => 512, relu)          \u001b[90m => \u001b[39m\u001b[33mEpsilonRule{Float32}(1.0f-6)\u001b[39m,\n  Dropout(0.5)                      \u001b[90m => \u001b[39m\u001b[33mPassRule()\u001b[39m,\n  Dense(512 => 100)                 \u001b[90m => \u001b[39m\u001b[33mEpsilonRule{Float32}(1.0f-6)\u001b[39m,\n)"
     },
     "metadata": {},
     "execution_count": 8
    }
   ],
   "cell_type": "code",
   "source": [
    "LRP(model, composite)"
   ],
   "metadata": {},
   "execution_count": 8
  },
  {
   "cell_type": "markdown",
   "source": [
    "## Computing layerwise relevances\n",
    "If you are interested in computing layerwise relevances,\n",
    "call `analyze` with an LRP analyzer and the keyword argument\n",
    "`layerwise_relevances=true`.\n",
    "\n",
    "The layerwise relevances can be accessed in the `extras` field\n",
    "of the returned `Explanation`:"
   ],
   "metadata": {}
  },
  {
   "outputs": [
    {
     "output_type": "execute_result",
     "data": {
      "text/plain": "(Float32[-0.045444563 -0.26116747 … -0.18418919 0.022211475; -0.02525588 0.07895095 … 0.15981244 -0.13078083; … ; -0.04687914 0.07910321 … 0.09199613 0.12717393; 0.03390475 -0.25860354 … -0.061920624 -0.019728703;;; 0.08199054 0.15446149 … -1.6924783 0.11057547; -0.37049145 -0.21730764 … -0.048435368 0.079642646; … ; 0.17469604 0.19805294 … 0.0055019576 0.12714502; -0.03183676 -0.12583175 … 0.19378994 -0.12801933;;; -0.0010350663 0.03946558 … -0.49190733 0.6596138; -0.043050125 -0.16689013 … 0.9517378 -0.2919031; … ; 0.013863304 0.021302825 … -0.16041997 -0.047749992; -0.024313372 0.16763961 … 0.16531514 0.018675799;;;;], Float32[0.0036868607 -0.0 … -0.0 0.0; 0.009831537 -0.0 … -0.0 -0.0; … ; 0.07072032 -0.0 … -0.0 -0.0; 0.0060353205 0.0 … 0.0 0.0;;; 0.00032768803 0.019801872 … -0.0 -0.0; 0.0 0.0 … -0.12721023 -0.0046421215; … ; 0.0 0.0 … -0.0 -0.0; 0.0 -0.0 … 0.0 0.0;;; -0.0061789453 0.0 … 0.22457685 0.0; 0.004490305 -0.0 … 0.077684134 -0.0; … ; 0.051793803 0.0415779 … -0.09648164 -0.0; -0.13508978 -0.091524765 … -0.020577233 0.0049769133;;; -0.006882317 -0.0 … 0.0022952906 0.124025136; 0.019864818 -0.0 … -0.12701486 0.21312208; … ; 0.032521304 -0.2597539 … -0.11648603 -0.098368675; 0.0 0.05774115 … -0.09552754 -0.0;;; 0.0058944407 0.026781578 … 0.12961088 -0.29778183; -0.04709281 -0.11182851 … 0.036716897 0.036362205; … ; 0.041136213 0.07544174 … -0.010897049 -0.00030994546; 0.0 0.0 … -0.0 -0.0042435196;;; -0.0 0.0 … 0.0 -0.0; 0.0007979685 -0.0 … 0.0 -0.050798684; … ; 0.0035825297 0.0 … 0.0 0.0; 0.01721007 0.03779862 … 0.08141597 -0.0;;; -0.047447097 -0.029164243 … 0.11162311 0.0; -0.008980255 0.10885217 … 0.0 -0.0; … ; -0.08417315 0.0 … -0.0 -0.0; 0.007167026 -0.0 … 0.0 0.0;;; -0.0 0.0 … 0.0 -0.04683663; 0.0 -0.0 … 0.0 -0.0; … ; 0.0 0.029629959 … 0.0 0.0; -0.0 0.0 … -0.0 -0.0;;;;], Float32[0.0 0.0016094218 … 0.0 0.0; 0.0 0.0 … 1.2626187 0.0; … ; 0.0 0.0731238 … -0.18112779 0.0; 0.0 0.0 … 0.0 0.0;;; 0.0 0.0 … 0.0 0.0; 0.0052193524 0.0 … 0.15772182 0.0; … ; 0.0 0.0 … -0.02289055 0.0; 0.09000529 0.0 … 0.0 0.0;;; 0.0 -0.0066896994 … 0.07071275 0.0; 0.0 0.0 … 0.0 0.0; … ; -0.08074883 0.0 … 0.0 0.0; 0.0 0.0 … 0.0 0.0;;; 0.0 0.0 … 0.0 0.0; 0.052720085 0.0 … 0.35231805 0.0; … ; 0.05885898 0.0 … 0.0 0.0; 0.0 0.0 … 0.0 0.0;;; 0.0 0.0 … 0.0 0.0; 0.09953831 0.0 … -0.8891286 0.0; … ; 0.0540269 0.0 … 0.0 0.0; 0.0 0.0 … 0.056225035 0.0;;; 0.0 0.0 … 0.0 0.0; 0.0073672696 0.0 … 0.0 -0.25161576; … ; 0.0 0.0 … 0.0 0.10166243; 0.040624183 0.0 … 0.0 0.0;;; 0.0 0.0 … 0.0 0.0; 0.0 0.0 … 0.0 0.0; … ; 0.0 -0.07235392 … 0.005845744 0.0; 0.0 0.0 … 0.0 0.0;;; -0.10599802 0.0 … 0.4265861 0.0; 0.0 0.0 … 0.0 0.0; … ; 0.0 0.0 … 0.0 0.0; -0.02519145 0.0 … 0.0 0.0;;;;], Float32[0.0016094219 0.11365436 … 0.11000991 1.2626187; -0.108047575 -0.063611105 … 0.055387698 -0.38146365; … ; 0.1782509 0.25174302 … 0.5054099 0.4536466; 0.0731238 -0.10187613 … -0.29874846 -0.18112779;;; 0.0052193524 0.090802744 … 0.18259382 0.15772182; -0.071491435 -0.027497951 … -0.14568287 0.046656616; … ; 0.120078415 0.38324353 … 0.13294047 -0.029917454; 0.09000529 -0.09381277 … -0.37739414 -0.02289055;;; -0.0066896994 0.048936453 … -0.24644841 0.07071275; -0.040662386 -0.2029028 … 0.1267885 0.0; … ; 0.0 -0.07123358 … 0.033934154 0.1103791; -0.08074883 -0.0 … 0.0 0.0;;; 0.052720085 0.040451623 … -0.3635495 0.35231805; -0.14918345 -0.8684922 … 0.79882437 -0.073666155; … ; 0.03716182 -0.2013875 … -0.015361401 0.20391661; 0.05885898 0.08549366 … 0.35342172 -0.0;;; 0.09953831 0.10643203 … 0.8211996 -0.8891286; -0.04505397 -1.5257525 … 1.5739515 0.5099056; … ; 0.09636366 0.23386969 … -0.17634596 -0.12663837; 0.0540269 -0.43619448 … 0.56387734 0.056225035;;; 0.0073672696 0.043637503 … 0.6138351 -0.25161576; -0.07230986 -0.17641845 … -0.4567307 0.8712728; … ; 0.22090286 -0.12524053 … -0.06497144 -0.21687067; 0.040624183 -0.36873347 … 0.0020369075 0.10166243;;; 0.0 -0.0 … -0.0 0.0; 0.0 -0.10908984 … -0.10015481 0.0052364264; … ; 0.01781833 0.0 … -0.1733469 -0.02032185; -0.07235392 -0.061057348 … 0.04086378 0.005845744;;; -0.10599802 -0.07105455 … -0.30312648 0.4265861; 0.0026392178 -0.31033567 … 0.10395498 0.007303267; … ; -0.05383713 -0.1848718 … 0.16955486 0.034158327; -0.02519145 0.19181763 … 0.22911058 0.0;;;;], Float32[-0.00044084192 0.01612314 … 0.008371585 0.0064249095; -0.00046152616 -0.00053587236 … 0.0006350167 -0.10494308; … ; -0.0005462458 0.001750945 … -0.0005224977 0.008604265; -0.00074735587 0.0029073977 … 8.7433094f-5 0.016584786;;; -0.00072041235 -0.00079991156 … -0.005835874 0.13526559; 0.0013957509 -0.0014082894 … 8.900713f-5 -6.335294f-5; … ; -0.0012679026 -0.00032740642 … -1.7067396f-5 -0.00095440797; 8.625188f-5 -0.0019445238 … -0.001550341 -0.0011357509;;; 6.6477664f-6 -6.129787f-5 … 0.0013444849 -0.0051908195; -0.00017766004 4.8974474f-5 … -0.00016371974 -0.00019242849; … ; -0.00019194826 -0.0001807618 … 0.0004816199 8.7320775f-5; -0.00019327017 -0.00015217924 … 3.8542927f-5 -0.00019274917;;; … ;;; 8.205976f-6 -0.00015554749 … -1.6986704f-6 -0.0001772109; -5.198677f-5 -0.00025139394 … 2.4196517f-5 0.0006691927; … ; -0.00010582028 0.00018777019 … -0.00021718233 0.00025521504; -0.00018204493 3.2948985f-5 … -0.00013716634 0.00023934963;;; 0.004980686 0.0075492226 … 0.0045413338 0.00223627; 0.0016089148 -0.05261867 … 5.0038133 -0.0018231294; … ; 0.0016644016 0.0030270151 … -0.0035264413 0.263838; 0.001745597 -0.007514067 … 1.889882 0.007985097;;; -0.00012944982 -0.000121768826 … 0.00029888126 6.133129f-5; -7.2002344f-6 -2.578275f-5 … -0.00052183436 -2.2732162f-5; … ; -6.6471184f-5 -0.00010023692 … -0.00012513346 0.00082698785; 0.000998525 -0.009520157 … 0.007084226 -0.000109245666;;;;], Float32[0.0 0.0 … -0.0 0.0; -0.0 0.0 … 0.00078385114 -0.13671458; … ; 0.0 0.0 … 0.0 0.0020354355; -0.0040245904 0.004857258 … -0.003613635 0.0068255174;;; -0.0010703646 -0.00061257224 … -0.0047681364 0.17786276; 0.004045076 1.666003f-5 … 0.0 -0.0; … ; -0.0029119214 -0.0 … -0.0 0.0; 0.0 0.0 … 0.0 -0.0;;; 1.7022121f-5 0.0 … 0.012475299 -0.026871739; 0.0 -0.0 … 0.0 -0.0; … ; 0.0 -0.0 … -0.0 0.0009971036; -0.0 0.0 … -0.0 -0.0;;; … ;;; -0.0011669592 -0.0 … -0.0011927094 -0.0; -0.0015955719 -0.0 … 0.0 0.0; … ; 0.0 0.0 … 0.0 -0.0; 0.0 0.0 … 0.0 -0.0;;; 0.0031391801 -9.172329f-5 … -0.043175403 -0.0039770654; 0.0013224102 -0.0049064187 … 0.22834079 0.21893993; … ; -0.00049481395 -0.06331905 … -0.04929888 0.028487667; 0.004317965 0.09848384 … 0.06307666 -0.0050528524;;; -0.0 -0.0 … -0.0 -0.0; -0.0 -0.0 … -0.006044693 0.0; … ; -0.0 0.0 … 0.0 0.0; 0.0017444582 -0.020017905 … 0.014380468 -0.0;;;;], Float32[-0.0 -0.00015917042 … -0.0060968692 -0.0012763169; -0.0010392171 -0.0041722013 … -0.0053829295 0.17995377; … ; -0.0009758738 -0.012859591 … 0.014346378 -0.006481681; -0.00017574204 -0.0033785822 … -0.000114501934 -0.0023518002;;; 0.0020414027 0.0038015002 … 0.033820763 0.51827335; 0.0 0.0056434586 … 0.0018452941 0.0045415657; … ; 0.0 0.0051090205 … -0.013595413 0.007854509; 0.0 0.0 … 0.0 0.0028249985;;; 0.0 0.0 … 0.00038179127 0.016780123; 0.0 1.3775648f-5 … 0.022438856 -7.153581f-5; … ; 0.00021178559 0.0 … 0.004728774 0.00895225; 0.0 0.0 … 0.0 0.0;;; 0.001003161 0.0016488994 … 0.0047691767 0.0010228802; 0.0014702649 0.0 … -0.007469139 0.0052524894; … ; 0.0 0.00206437 … 0.014508737 0.0025028766; 0.0 0.0 … 0.0033335793 0.0006276648;;; -0.0 -0.0 … -0.0 -0.0; -0.0 -0.0 … -0.0 -0.0; … ; -0.0007574633 -0.0 … -0.0 -0.0; -0.0 -0.0 … -0.0 -0.0;;; -0.00921355 -0.014601894 … -0.02455194 0.0; 0.004793854 0.0 … -0.0046151457 0.0; … ; 7.862882f-6 -0.007839142 … -0.012971841 2.6042844f-5; 2.59566f-5 0.03622197 … 0.0 0.015730215;;; 0.0 0.0 … 0.0 0.0; 0.0 0.0046218447 … 0.0 1.0223486f-6; … ; 0.0 -0.000373986 … 0.00072191923 0.0; -0.0018112223 -0.0005446896 … 0.0 0.0;;; 0.0 0.0 … 0.0 0.00096067495; 0.0 0.0 … 0.0 0.0; … ; 0.0 0.0 … 0.0 0.0; -0.0060435724 0.002519643 … 0.0 0.0;;;;], Float32[-0.0 -3.4101628f-5 … 0.014718905 -0.0017455264; 0.0003224648 -0.0016911236 … 0.02281903 0.021335568; … ; 0.0021500885 0.0054481225 … 0.013704294 0.02082818; 0.0010749705 0.008201949 … -0.00040783721 0.006907705;;; 0.0022252668 -0.004853419 … 0.008113925 0.0125563955; -0.0 -0.0038081515 … 0.0016613394 -0.0014240097; … ; 0.0 -0.00039555147 … -0.008133906 0.00033027763; -0.0 -0.0 … -0.0 0.0012489905;;; -0.0 -0.0 … 0.0004883124 0.004511635; 0.0 -1.4726806f-5 … 0.014671075 -0.0026996792; … ; -0.0010858808 -0.0 … 0.0015030421 0.004700954; 0.0 -0.0 … 0.0 -0.0;;; 0.0030223145 -0.0059274663 … 0.022198234 0.0034633433; 0.0053346744 0.0 … -0.0025248243 -0.0009929083; … ; 0.0 -0.005004492 … 0.0021832988 0.0045616543; -0.0 0.0 … 0.0026245578 0.0019532463;;; -0.0 -0.0 … 0.0 -0.0; 0.0 0.0 … -0.0 0.0; … ; -9.8668774f-5 -0.0 … -0.0 0.0; -0.0 0.0 … -0.0 0.0;;; -0.0052568796 -0.0053802347 … -0.0037347712 0.0; 0.0023533169 0.0 … -0.002215193 -0.0; … ; 0.004958434 -0.0043630465 … -0.0014042683 0.0008439529; -0.0014004586 0.030071795 … 0.0 0.0027690546;;; -0.0 -0.0 … 0.0 0.0; -0.0 0.0047990466 … 0.0 0.000112015696; … ; 0.0 0.002141342 … 0.00074203854 0.0; -0.00076026784 -0.00010105947 … -0.0 0.0;;; -0.0 -0.0 … -0.0 0.0005623982; -0.0 0.0 … -0.0 0.0; … ; -0.0 0.0 … -0.0 0.0; -0.011299421 -0.002184849 … -0.0 0.0;;;;], Float32[-0.0; 0.0003224648; … ; 0.0; 0.0;;], Float32[0.0; 0.0; … ; 0.009413177; -0.0;;], Float32[0.0; 0.0; … ; 0.009413177; -0.0;;], Float32[0.0; 0.0; … ; 0.0; 0.0;;])"
     },
     "metadata": {},
     "execution_count": 9
    }
   ],
   "cell_type": "code",
   "source": [
    "input = rand(Float32, 32, 32, 3, 1) # dummy input for our convolutional neural network\n",
    "\n",
    "expl = analyze(input, analyzer; layerwise_relevances=true)\n",
    "expl.extras.layerwise_relevances"
   ],
   "metadata": {},
   "execution_count": 9
  },
  {
   "cell_type": "markdown",
   "source": [
    "Note that the layerwise relevances are only kept for layers in the outermost `Chain` of the model.\n",
    "When using our unflattened model, we only obtain three layerwise relevances,\n",
    "one for each chain in the model and the output relevance:"
   ],
   "metadata": {}
  },
  {
   "outputs": [
    {
     "output_type": "execute_result",
     "data": {
      "text/plain": "(Float32[0.014908061 -0.010275087 … -0.114645995 0.0061288048; 0.013130265 -0.37091494 … -0.040975712 -0.16242087; … ; -0.25511387 0.26326725 … -0.57306737 -0.59616524; -0.031121291 -0.45590526 … -0.5059504 0.121867225;;; 0.11382516 -0.10646851 … -0.3485705 0.17627715; -0.10605026 -0.10684224 … 0.08777002 0.03606443; … ; 0.40929225 0.32206985 … -2.2140057 -0.103317104; -0.055774953 -0.37625435 … 0.51358277 -0.05808303;;; -6.3059333f-6 -0.5549344 … -0.32855216 0.26615795; -0.13330628 -0.1338728 … 0.6101553 0.20615782; … ; 0.04696441 0.15260619 … -1.0518061 0.07603169; -0.037169613 0.08803467 … -1.2858689 -0.42897636;;;;], Float32[-0.0 0.0 … 0.015541518 -0.0022511436; 0.0013909015 -0.0014181173 … 0.02218824 0.020792758; … ; 0.0011591922 0.00852769 … 0.015254115 0.018995356; 0.00028160607 0.012736286 … -0.0 0.004941677;;; 0.00057267403 -0.002083079 … 0.006641929 0.014116885; -0.0 -0.0033896693 … 0.00012088958 0.0002560582; … ; 0.0 0.0029619779 … -0.0059263497 -0.0010557839; -0.0 -0.0 … -0.0 -0.0014512459;;; -0.0 -0.0 … 0.0 0.003179826; 0.0 -0.0 … 0.02337039 0.00024901377; … ; -0.0030587593 -0.0 … 0.0031076528 0.0027632997; 0.0 -0.0 … 0.0 -0.0;;; 0.0015613171 -0.005363986 … 0.018481448 0.0; 0.0028310565 0.0 … -0.0023352932 -0.0007243201; … ; -0.0 -0.0034240757 … 0.005072813 0.0015217891; -0.0 0.0 … 0.004064448 0.0;;; 0.0 -0.0 … 0.0 -0.0; 0.0 0.0 … -0.0 0.0; … ; -0.00014375713 0.0 … -0.0 0.0; -0.0 0.0 … -0.0 0.0;;; -0.0030666962 -0.012536816 … -0.0037892498 0.0; 0.002391353 0.0014501069 … -0.0031161464 -0.0; … ; 0.0024409664 -0.009498246 … -0.0014621614 0.003034545; -0.00021482717 0.031881407 … 0.0 0.0028816788;;; -0.0 -0.0 … 0.0 0.0; -0.0 0.008221905 … 0.002102671 0.00045312187; … ; 0.0 -0.0003918218 … 0.0023351342 0.00014015539; -0.004475688 0.0006393079 … -0.0 0.0;;; -0.00013256619 -0.0 … -0.0 0.0014112097; 4.4508353f-5 0.0 … -0.0 0.0; … ; -0.00031444555 0.0 … -0.0 0.0; -0.012243267 -0.00030492447 … -0.0 0.0;;;;], Float32[0.0; 0.0; … ; 0.0; 0.0;;])"
     },
     "metadata": {},
     "execution_count": 10
    }
   ],
   "cell_type": "code",
   "source": [
    "analyzer = LRP(model; flatten=false) # use unflattened model\n",
    "\n",
    "expl = analyze(input, analyzer; layerwise_relevances=true)\n",
    "expl.extras.layerwise_relevances"
   ],
   "metadata": {},
   "execution_count": 10
  },
  {
   "cell_type": "markdown",
   "source": [
    "## Performance tips\n",
    "### ### Using LRP with a GPU\n",
    "All LRP analyzers support GPU backends,\n",
    "building on top of [Flux.jl's GPU support](https://fluxml.ai/Flux.jl/stable/gpu/).\n",
    "Using a GPU only requires moving the input array and model weights to the GPU.\n",
    "\n",
    "For example, using [CUDA.jl](https://github.com/JuliaGPU/CUDA.jl):"
   ],
   "metadata": {}
  },
  {
   "cell_type": "markdown",
   "source": [
    "```julia\n",
    "using CUDA, cuDNN\n",
    "using Flux\n",
    "using ExplainableAI\n",
    "\n",
    "# move input array and model weights to GPU\n",
    "input = input |> gpu # or gpu(input)\n",
    "model = model |> gpu # or gpu(model)\n",
    "\n",
    "# analyzers don't require calling `gpu`\n",
    "analyzer = LRP(model)\n",
    "\n",
    "# explanations are computed on the GPU\n",
    "expl = analyze(input, analyzer)\n",
    "```"
   ],
   "metadata": {}
  },
  {
   "cell_type": "markdown",
   "source": [
    "Some operations, like saving, require moving explanations back to the CPU.\n",
    "This can be done using Flux's `cpu` function:"
   ],
   "metadata": {}
  },
  {
   "cell_type": "markdown",
   "source": [
    "```julia\n",
    "val = expl.val |> cpu # or cpu(expl.val)\n",
    "\n",
    "using BSON\n",
    "BSON.@save \"explanation.bson\" val\n",
    "```\n",
    "\n",
    "### Using LRP without a GPU\n",
    "Using Julia's package extension mechanism,\n",
    "RelevancePropagation.jl's LRP implementation can optionally make use of\n",
    "[Tullio.jl](https://github.com/mcabbott/Tullio.jl) and\n",
    "[LoopVectorization.jl](https://github.com/JuliaSIMD/LoopVectorization.jl)\n",
    "for faster LRP rules on dense layers.\n",
    "\n",
    "This only requires loading the packages before loading RelevancePropagation.jl:\n",
    "```julia\n",
    "using LoopVectorization, Tullio\n",
    "using RelevancePropagation\n",
    "```\n",
    "\n",
    "[^1]: G. Montavon et al., [Layer-Wise Relevance Propagation: An Overview](https://link.springer.com/chapter/10.1007/978-3-030-28954-6_10)"
   ],
   "metadata": {}
  },
  {
   "cell_type": "markdown",
   "source": [
    "---\n",
    "\n",
    "*This notebook was generated using [Literate.jl](https://github.com/fredrikekre/Literate.jl).*"
   ],
   "metadata": {}
  }
 ],
 "nbformat_minor": 3,
 "metadata": {
  "language_info": {
   "file_extension": ".jl",
   "mimetype": "application/julia",
   "name": "julia",
   "version": "1.10.0"
  },
  "kernelspec": {
   "name": "julia-1.10",
   "display_name": "Julia 1.10.0",
   "language": "julia"
  }
 },
 "nbformat": 4
}
