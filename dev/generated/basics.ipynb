{
 "cells": [
  {
   "cell_type": "markdown",
   "source": [
    "# Basic usage of LRP"
   ],
   "metadata": {}
  },
  {
   "cell_type": "markdown",
   "source": [
    "We start out by loading a small convolutional neural network:"
   ],
   "metadata": {}
  },
  {
   "outputs": [],
   "cell_type": "code",
   "source": [
    "using RelevancePropagation\n",
    "using Flux\n",
    "\n",
    "model = Chain(\n",
    "    Chain(\n",
    "        Conv((3, 3), 3 => 8, relu; pad=1),\n",
    "        Conv((3, 3), 8 => 8, relu; pad=1),\n",
    "        MaxPool((2, 2)),\n",
    "        Conv((3, 3), 8 => 16; pad=1),\n",
    "        BatchNorm(16, relu),\n",
    "        Conv((3, 3), 16 => 8, relu; pad=1),\n",
    "        BatchNorm(8, relu),\n",
    "    ),\n",
    "    Chain(Flux.flatten, Dense(2048 => 512, relu), Dropout(0.5), Dense(512 => 100, softmax)),\n",
    ");"
   ],
   "metadata": {},
   "execution_count": 1
  },
  {
   "cell_type": "markdown",
   "source": [
    "This model contains two chains: the convolutional layers and the fully connected layers."
   ],
   "metadata": {}
  },
  {
   "cell_type": "markdown",
   "source": [
    "## Model preparation"
   ],
   "metadata": {}
  },
  {
   "cell_type": "markdown",
   "source": [
    "### Stripping the output softmax\n",
    "When using LRP, it is recommended to explain output logits instead of probabilities.\n",
    "This can be done by stripping the output softmax activation from the model\n",
    "using the `strip_softmax` function:"
   ],
   "metadata": {}
  },
  {
   "outputs": [
    {
     "output_type": "execute_result",
     "data": {
      "text/plain": "Chain(\n  Chain(\n    Conv((3, 3), 3 => 8, relu, pad=1),  \u001b[90m# 224 parameters\u001b[39m\n    Conv((3, 3), 8 => 8, relu, pad=1),  \u001b[90m# 584 parameters\u001b[39m\n    MaxPool((2, 2)),\n    Conv((3, 3), 8 => 16, pad=1),       \u001b[90m# 1_168 parameters\u001b[39m\n    BatchNorm(16, relu),                \u001b[90m# 32 parameters\u001b[39m\u001b[90m, plus 32\u001b[39m\n    Conv((3, 3), 16 => 8, relu, pad=1),  \u001b[90m# 1_160 parameters\u001b[39m\n    BatchNorm(8, relu),                 \u001b[90m# 16 parameters\u001b[39m\u001b[90m, plus 16\u001b[39m\n  ),\n  Chain(\n    Flux.flatten,\n    Dense(2048 => 512, relu),           \u001b[90m# 1_049_088 parameters\u001b[39m\n    Dropout(0.5),\n    Dense(512 => 100),                  \u001b[90m# 51_300 parameters\u001b[39m\n  ),\n) \u001b[90m        # Total: 16 trainable arrays, \u001b[39m1_103_572 parameters,\n\u001b[90m          # plus 4 non-trainable, 48 parameters, summarysize \u001b[39m4.213 MiB."
     },
     "metadata": {},
     "execution_count": 2
    }
   ],
   "cell_type": "code",
   "source": [
    "model = strip_softmax(model)"
   ],
   "metadata": {},
   "execution_count": 2
  },
  {
   "cell_type": "markdown",
   "source": [
    "If you don't remove the output softmax,\n",
    "model checks will fail."
   ],
   "metadata": {}
  },
  {
   "cell_type": "markdown",
   "source": [
    "### Canonizing the model\n",
    "LRP is not invariant to a model's implementation.\n",
    "Applying the `GammaRule` to two linear layers in a row will yield different results\n",
    "than first fusing the two layers into one linear layer and then applying the rule.\n",
    "This fusing is called \"canonization\" and can be done using the `canonize` function:"
   ],
   "metadata": {}
  },
  {
   "outputs": [
    {
     "output_type": "execute_result",
     "data": {
      "text/plain": "Chain(\n  Conv((3, 3), 3 => 8, relu, pad=1),    \u001b[90m# 224 parameters\u001b[39m\n  Conv((3, 3), 8 => 8, relu, pad=1),    \u001b[90m# 584 parameters\u001b[39m\n  MaxPool((2, 2)),\n  Conv((3, 3), 8 => 16, relu, pad=1),   \u001b[90m# 1_168 parameters\u001b[39m\n  Conv((3, 3), 16 => 8, relu, pad=1),   \u001b[90m# 1_160 parameters\u001b[39m\n  BatchNorm(8, relu),                   \u001b[90m# 16 parameters\u001b[39m\u001b[90m, plus 16\u001b[39m\n  Flux.flatten,\n  Dense(2048 => 512, relu),             \u001b[90m# 1_049_088 parameters\u001b[39m\n  Dropout(0.5),\n  Dense(512 => 100),                    \u001b[90m# 51_300 parameters\u001b[39m\n) \u001b[90m        # Total: 14 trainable arrays, \u001b[39m1_103_540 parameters,\n\u001b[90m          # plus 2 non-trainable, 16 parameters, summarysize \u001b[39m4.212 MiB."
     },
     "metadata": {},
     "execution_count": 3
    }
   ],
   "cell_type": "code",
   "source": [
    "model_canonized = canonize(model)"
   ],
   "metadata": {},
   "execution_count": 3
  },
  {
   "cell_type": "markdown",
   "source": [
    "After canonization, the first `BatchNorm` layer has been fused into the preceding `Conv` layer.\n",
    "The second `BatchNorm` layer wasn't fused\n",
    "since its preceding `Conv` layer has a ReLU activation function."
   ],
   "metadata": {}
  },
  {
   "cell_type": "markdown",
   "source": [
    "### Flattening the model\n",
    "RelevancePropagation.jl's LRP implementation supports nested Flux Chains and Parallel layers.\n",
    "However, it is recommended to flatten the model before analyzing it.\n",
    "\n",
    "LRP is implemented by first running a forward pass through the model,\n",
    "keeping track of the intermediate activations, followed by a backward pass\n",
    "that computes the relevances.\n",
    "\n",
    "To keep the LRP implementation simple and maintainable,\n",
    "RelevancePropagation.jl does not pre-compute \"nested\" activations.\n",
    "Instead, for every internal chain, a new forward pass is run to compute activations.\n",
    "\n",
    "By \"flattening\" a model, this overhead can be avoided.\n",
    "For this purpose, RelevancePropagation.jl provides the function `flatten_model`:"
   ],
   "metadata": {}
  },
  {
   "outputs": [
    {
     "output_type": "execute_result",
     "data": {
      "text/plain": "Chain(\n  Conv((3, 3), 3 => 8, relu, pad=1),    \u001b[90m# 224 parameters\u001b[39m\n  Conv((3, 3), 8 => 8, relu, pad=1),    \u001b[90m# 584 parameters\u001b[39m\n  MaxPool((2, 2)),\n  Conv((3, 3), 8 => 16, pad=1),         \u001b[90m# 1_168 parameters\u001b[39m\n  BatchNorm(16, relu),                  \u001b[90m# 32 parameters\u001b[39m\u001b[90m, plus 32\u001b[39m\n  Conv((3, 3), 16 => 8, relu, pad=1),   \u001b[90m# 1_160 parameters\u001b[39m\n  BatchNorm(8, relu),                   \u001b[90m# 16 parameters\u001b[39m\u001b[90m, plus 16\u001b[39m\n  Flux.flatten,\n  Dense(2048 => 512, relu),             \u001b[90m# 1_049_088 parameters\u001b[39m\n  Dropout(0.5),\n  Dense(512 => 100),                    \u001b[90m# 51_300 parameters\u001b[39m\n) \u001b[90m        # Total: 16 trainable arrays, \u001b[39m1_103_572 parameters,\n\u001b[90m          # plus 4 non-trainable, 48 parameters, summarysize \u001b[39m4.212 MiB."
     },
     "metadata": {},
     "execution_count": 4
    }
   ],
   "cell_type": "code",
   "source": [
    "model_flat = flatten_model(model)"
   ],
   "metadata": {},
   "execution_count": 4
  },
  {
   "cell_type": "markdown",
   "source": [
    "This function is called by default when creating an LRP analyzer.\n",
    "Note that we pass the unflattened model to the analyzer, but `analyzer.model` is flattened:"
   ],
   "metadata": {}
  },
  {
   "outputs": [
    {
     "output_type": "execute_result",
     "data": {
      "text/plain": "Chain(\n  Conv((3, 3), 3 => 8, relu, pad=1),    \u001b[90m# 224 parameters\u001b[39m\n  Conv((3, 3), 8 => 8, relu, pad=1),    \u001b[90m# 584 parameters\u001b[39m\n  MaxPool((2, 2)),\n  Conv((3, 3), 8 => 16, pad=1),         \u001b[90m# 1_168 parameters\u001b[39m\n  BatchNorm(16, relu),                  \u001b[90m# 32 parameters\u001b[39m\u001b[90m, plus 32\u001b[39m\n  Conv((3, 3), 16 => 8, relu, pad=1),   \u001b[90m# 1_160 parameters\u001b[39m\n  BatchNorm(8, relu),                   \u001b[90m# 16 parameters\u001b[39m\u001b[90m, plus 16\u001b[39m\n  Flux.flatten,\n  Dense(2048 => 512, relu),             \u001b[90m# 1_049_088 parameters\u001b[39m\n  Dropout(0.5),\n  Dense(512 => 100),                    \u001b[90m# 51_300 parameters\u001b[39m\n) \u001b[90m        # Total: 16 trainable arrays, \u001b[39m1_103_572 parameters,\n\u001b[90m          # plus 4 non-trainable, 48 parameters, summarysize \u001b[39m4.212 MiB."
     },
     "metadata": {},
     "execution_count": 5
    }
   ],
   "cell_type": "code",
   "source": [
    "analyzer = LRP(model)\n",
    "analyzer.model"
   ],
   "metadata": {},
   "execution_count": 5
  },
  {
   "cell_type": "markdown",
   "source": [
    "If this flattening is not desired, it can be disabled\n",
    "by passing the keyword argument `flatten=false` to the `LRP` constructor."
   ],
   "metadata": {}
  },
  {
   "cell_type": "markdown",
   "source": [
    "## LRP rules\n",
    "By default, the `LRP` constructor will assign the `ZeroRule` to all layers."
   ],
   "metadata": {}
  },
  {
   "outputs": [
    {
     "output_type": "execute_result",
     "data": {
      "text/plain": "LRP(\n  Conv((3, 3), 3 => 8, relu, pad=1) \u001b[90m => \u001b[39m\u001b[33mZeroRule()\u001b[39m,\n  Conv((3, 3), 8 => 8, relu, pad=1) \u001b[90m => \u001b[39m\u001b[33mZeroRule()\u001b[39m,\n  MaxPool((2, 2))                   \u001b[90m => \u001b[39m\u001b[33mZeroRule()\u001b[39m,\n  Conv((3, 3), 8 => 16, pad=1)      \u001b[90m => \u001b[39m\u001b[33mZeroRule()\u001b[39m,\n  BatchNorm(16, relu)               \u001b[90m => \u001b[39m\u001b[33mZeroRule()\u001b[39m,\n  Conv((3, 3), 16 => 8, relu, pad=1)\u001b[90m => \u001b[39m\u001b[33mZeroRule()\u001b[39m,\n  BatchNorm(8, relu)                \u001b[90m => \u001b[39m\u001b[33mZeroRule()\u001b[39m,\n  Flux.flatten                      \u001b[90m => \u001b[39m\u001b[33mZeroRule()\u001b[39m,\n  Dense(2048 => 512, relu)          \u001b[90m => \u001b[39m\u001b[33mZeroRule()\u001b[39m,\n  Dropout(0.5)                      \u001b[90m => \u001b[39m\u001b[33mZeroRule()\u001b[39m,\n  Dense(512 => 100)                 \u001b[90m => \u001b[39m\u001b[33mZeroRule()\u001b[39m,\n)"
     },
     "metadata": {},
     "execution_count": 6
    }
   ],
   "cell_type": "code",
   "source": [
    "LRP(model)"
   ],
   "metadata": {},
   "execution_count": 6
  },
  {
   "cell_type": "markdown",
   "source": [
    "This analyzer will return heatmaps that look identical to the `InputTimesGradient` analyzer\n",
    "from [ExplainableAI.jl](https://github.com/Julia-XAI/ExplainableAI.jl)."
   ],
   "metadata": {}
  },
  {
   "cell_type": "markdown",
   "source": [
    "LRP's strength lies in assigning different rules to different layers,\n",
    "based on their functionality in the neural network[^1].\n",
    "RelevancePropagation.jl implements many LRP rules out of the box,\n",
    "but it is also possible to *implement custom rules*.\n",
    "\n",
    "To assign different rules to different layers,\n",
    "use one of the composites presets,\n",
    "or create your own composite, as described in\n",
    "*Assigning rules to layers*."
   ],
   "metadata": {}
  },
  {
   "outputs": [
    {
     "output_type": "execute_result",
     "data": {
      "text/plain": "Composite(\n  GlobalTypeMap(  \u001b[90m# all layers\u001b[39m\n\u001b[94m    Flux.Conv              \u001b[39m => \u001b[33mZPlusRule()\u001b[39m,\n\u001b[94m    Flux.ConvTranspose     \u001b[39m => \u001b[33mZPlusRule()\u001b[39m,\n\u001b[94m    Flux.CrossCor          \u001b[39m => \u001b[33mZPlusRule()\u001b[39m,\n\u001b[94m    Flux.Dense             \u001b[39m => \u001b[33mEpsilonRule{Float32}(1.0f-6)\u001b[39m,\n\u001b[94m    typeof(NNlib.dropout)  \u001b[39m => \u001b[33mPassRule()\u001b[39m,\n\u001b[94m    Flux.AlphaDropout      \u001b[39m => \u001b[33mPassRule()\u001b[39m,\n\u001b[94m    Flux.Dropout           \u001b[39m => \u001b[33mPassRule()\u001b[39m,\n\u001b[94m    Flux.BatchNorm         \u001b[39m => \u001b[33mPassRule()\u001b[39m,\n\u001b[94m    typeof(Flux.flatten)   \u001b[39m => \u001b[33mPassRule()\u001b[39m,\n\u001b[94m    typeof(MLUtils.flatten)\u001b[39m => \u001b[33mPassRule()\u001b[39m,\n\u001b[94m    typeof(identity)       \u001b[39m => \u001b[33mPassRule()\u001b[39m,\n ),\n  FirstLayerTypeMap(  \u001b[90m# first layer\u001b[39m\n\u001b[94m    Flux.Conv         \u001b[39m => \u001b[33mFlatRule()\u001b[39m,\n\u001b[94m    Flux.ConvTranspose\u001b[39m => \u001b[33mFlatRule()\u001b[39m,\n\u001b[94m    Flux.CrossCor     \u001b[39m => \u001b[33mFlatRule()\u001b[39m,\n ),\n)"
     },
     "metadata": {},
     "execution_count": 7
    }
   ],
   "cell_type": "code",
   "source": [
    "composite = EpsilonPlusFlat() # using composite preset EpsilonPlusFlat"
   ],
   "metadata": {},
   "execution_count": 7
  },
  {
   "outputs": [
    {
     "output_type": "execute_result",
     "data": {
      "text/plain": "LRP(\n  Conv((3, 3), 3 => 8, relu, pad=1) \u001b[90m => \u001b[39m\u001b[33mFlatRule()\u001b[39m,\n  Conv((3, 3), 8 => 8, relu, pad=1) \u001b[90m => \u001b[39m\u001b[33mZPlusRule()\u001b[39m,\n  MaxPool((2, 2))                   \u001b[90m => \u001b[39m\u001b[33mZeroRule()\u001b[39m,\n  Conv((3, 3), 8 => 16, pad=1)      \u001b[90m => \u001b[39m\u001b[33mZPlusRule()\u001b[39m,\n  BatchNorm(16, relu)               \u001b[90m => \u001b[39m\u001b[33mPassRule()\u001b[39m,\n  Conv((3, 3), 16 => 8, relu, pad=1)\u001b[90m => \u001b[39m\u001b[33mZPlusRule()\u001b[39m,\n  BatchNorm(8, relu)                \u001b[90m => \u001b[39m\u001b[33mPassRule()\u001b[39m,\n  Flux.flatten                      \u001b[90m => \u001b[39m\u001b[33mPassRule()\u001b[39m,\n  Dense(2048 => 512, relu)          \u001b[90m => \u001b[39m\u001b[33mEpsilonRule{Float32}(1.0f-6)\u001b[39m,\n  Dropout(0.5)                      \u001b[90m => \u001b[39m\u001b[33mPassRule()\u001b[39m,\n  Dense(512 => 100)                 \u001b[90m => \u001b[39m\u001b[33mEpsilonRule{Float32}(1.0f-6)\u001b[39m,\n)"
     },
     "metadata": {},
     "execution_count": 8
    }
   ],
   "cell_type": "code",
   "source": [
    "LRP(model, composite)"
   ],
   "metadata": {},
   "execution_count": 8
  },
  {
   "cell_type": "markdown",
   "source": [
    "## Computing layerwise relevances\n",
    "If you are interested in computing layerwise relevances,\n",
    "call `analyze` with an LRP analyzer and the keyword argument\n",
    "`layerwise_relevances=true`.\n",
    "\n",
    "The layerwise relevances can be accessed in the `extras` field\n",
    "of the returned `Explanation`:"
   ],
   "metadata": {}
  },
  {
   "outputs": [
    {
     "output_type": "execute_result",
     "data": {
      "text/plain": "(Float32[0.013480908 -0.12843697 … 0.02874584 -0.124492444; -0.012244661 0.029036341 … -0.0070581306 -0.09519773; … ; -0.12250594 -0.11203781 … 0.008787494 0.14663643; -0.023816857 0.2200289 … -0.049614765 0.26503345;;; 0.0070728003 0.040825386 … -0.32878226 -0.07376215; -0.029711716 -0.28386486 … -0.46798974 -0.22622812; … ; 0.34142786 -0.5209898 … 0.00640313 -0.14322397; 0.14701973 -0.07845033 … -0.1793986 -0.022833416;;; -0.48850477 -0.09694325 … 0.06453532 0.016782476; -0.58886653 -0.35088715 … -0.3357533 -0.8108687; … ; -0.30832765 -0.2617967 … -0.49569833 0.09011814; -0.17166926 -0.30713853 … -0.14074442 -0.014093755;;;;], Float32[0.0 0.0 … -0.0016782245 -0.0; -0.0 -0.0033899208 … 0.0 -0.22668824; … ; -0.0 -0.0 … -0.0 -0.24861076; -0.0 -0.069734484 … 0.0 -0.35320398;;; -0.1285232 -0.017034445 … -0.078963816 0.0; -0.015309126 -0.006564792 … -0.43838766 0.0; … ; 0.0 -0.1399547 … 0.08227027 -0.20786093; 0.034706153 -0.013347496 … -0.09317252 -0.03642104;;; 0.0 0.0 … -0.09832339 0.01052956; 0.0 0.0 … -0.0 0.035921007; … ; -0.0 -0.0 … 0.0 -0.0; -0.0 -0.03887223 … 0.0 -0.3216366;;; -0.17911011 -0.30584875 … 0.23200157 -0.080028094; -0.20165433 -0.7398036 … 0.063027605 -0.25145218; … ; -0.026181215 -0.117933825 … -0.08452105 0.3291088; 0.03045738 0.065179 … 0.03809902 0.017918136;;; 0.0 -0.03912604 … -0.0 0.0; -0.0 0.0 … 0.020805296 -0.010184154; … ; -0.0 0.014458511 … 0.0 -0.07166389; -0.0 -0.0 … -0.0 0.008767841;;; -0.0 -0.0 … -0.0 -0.01596447; -0.016682886 -0.060451873 … -0.16362374 -0.33162096; … ; 0.0 -0.0 … -0.09680871 -0.019947212; 0.04624905 0.0021732661 … 0.030783724 -0.35919467;;; -0.0040915734 0.0 … -0.0024155274 -0.0; -0.0 -0.0 … 0.0 -0.03870127; … ; -0.0 -0.0 … -0.0 -0.036130577; -0.0 -0.0 … 0.0 -0.0;;; -0.023822198 -0.0 … -0.12566277 -0.0; 0.04109783 0.09124431 … -0.013116641 0.0; … ; 0.07660671 -0.006966577 … -0.04226114 0.034121014; -0.08851619 -0.064431995 … 0.014234748 0.0;;;;], Float32[0.0 0.0 … -0.05248984 0.0; 0.0 -0.30211246 … 0.0 0.0; … ; 0.0 -0.32912487 … 0.0 0.0; 0.0 0.0 … -0.42662096 0.0;;; 0.0 -0.012934342 … 0.0 0.11717209; 0.0 0.0 … 0.0 0.0; … ; 0.0 -0.057136532 … 0.0 0.0; 0.0 0.0 … 0.15849045 0.0;;; 0.0 0.039718557 … -0.10576588 0.0; 0.0 0.0 … 0.0 0.0; … ; 0.014687591 0.0 … -0.0088829 0.0; 0.0 0.0 … 0.0 0.0;;; 0.0 0.0 … 0.0 0.0; 0.0 0.0 … 0.0 0.0; … ; -0.024607101 0.0 … 0.0 0.0; 0.0 0.0 … 0.0 0.020961285;;; -0.15770851 0.0 … 0.0 0.0; 0.0 0.0 … -0.2587873 0.0; … ; -0.035904795 0.0 … 0.0 -0.32710966; 0.0 0.0 … 0.0 0.0;;; 0.0 0.0 … -0.9698582 0.0; 0.0 -0.07063337 … 0.0 0.0; … ; 0.0 -0.4679325 … 0.0 -0.8637823; 0.0 0.0 … 0.0 0.0;;; 0.0 0.0 … 0.0 0.0; 0.0 0.012836693 … -0.055853244 0.0; … ; 0.0 0.1853836 … -0.33512425 0.0; 0.0 0.0 … 0.0 0.0;;; 0.0 0.0 … -0.020311225 0.0; -0.069506206 0.0 … 0.0 0.0; … ; -0.003015675 0.0 … -0.012591259 0.0; 0.0 0.0 … 0.0 0.0;;;;], Float32[-0.30211246 -0.19986856 … -0.23156345 -0.05248984; -0.52589667 -0.16223064 … -0.4523703 -0.47056067; … ; -0.58512646 -0.09447882 … -0.35855523 -0.22426467; -0.32912487 -0.5187866 … -0.8799897 -0.42662096;;; -0.012934343 0.001400412 … 0.0029118396 0.11717209; -0.19456413 -0.08079716 … -0.13891645 0.03592166; … ; -0.23837101 -0.69068146 … -0.3007412 0.08302012; -0.057136532 0.015152448 … -0.088633336 0.15849045;;; 0.039718557 0.01176567 … -0.066012345 -0.10576588; 0.022833923 0.007834437 … -0.18533982 -0.030489055; … ; 0.09883392 -0.026761862 … -0.022770276 -0.084742166; 0.014687592 0.06223738 … -0.0728301 -0.008882901;;; 0.0 0.0 … 0.0 0.0; -0.0 0.0 … 0.0 0.0; … ; -0.0 0.013463997 … 0.004881921 0.0; -0.024607101 -0.08022188 … -0.053585462 0.020961287;;; -0.15770851 0.05035138 … -0.0 -0.2587873; -0.11231716 -0.6044331 … -0.22843532 -0.3194547; … ; -0.5272205 -0.25756374 … -0.5723661 -0.29171008; -0.035904795 -0.17361587 … -0.13176098 -0.32710966;;; -0.07063337 -0.32562712 … -0.61603844 -0.9698582; -0.4289593 -0.48574743 … -0.91583186 -1.4081924; … ; -0.31421566 -0.66589177 … -1.032104 -1.3788791; -0.4679325 -0.6889308 … -0.5042274 -0.8637823;;; 0.012836693 0.034694288 … -0.008938439 -0.055853244; 0.25925726 0.11626774 … -0.072590895 -0.2739414; … ; 0.2786996 -0.020913323 … 0.15334055 -0.12482675; 0.1853836 -0.0024093592 … 0.20052312 -0.33512425;;; -0.069506206 -0.1725728 … -0.15892868 -0.020311225; 0.004343382 0.06424866 … -0.056618497 0.09671995; … ; 0.018936148 -0.12275317 … 0.057807874 -0.08716972; -0.003015675 -0.062869675 … 0.010313234 -0.012591259;;;;], Float32[0.0020976283 0.0024372777 … 0.001383488 0.0016910107; -0.024707356 -0.01164696 … 0.000165757 -0.021296086; … ; -0.009843097 -0.011955367 … 0.0019860438 -0.05055664; -0.03860086 -0.021198478 … 0.0009927208 -0.0723178;;; 0.03402311 -0.082077034 … -0.02142504 -0.042544812; 0.106700756 0.00016591938 … -0.099046424 -0.0082120085; … ; -0.013720437 -0.12031841 … 0.09988682 -0.012940729; -0.0570816 -0.0014195923 … -0.0039500273 0.00599158;;; 2.9094299f-5 3.646814f-5 … -0.00024111226 0.0011140549; 7.1404116f-5 4.140101f-5 … -1.6298742f-5 1.4682017f-5; … ; 2.9116702f-5 7.234616f-5 … -1.4705829f-5 1.14071445f-5; 5.421928f-5 -0.00017885437 … 2.5635327f-6 -0.00025198824;;; … ;;; 3.7639538f-6 0.0038200957 … 0.0016362423 0.00063314027; 0.00031847117 -0.00013476548 … 3.1803214f-5 0.0013798937; … ; 0.0020203446 0.00063858397 … 0.0006096095 -0.00011413573; -3.1712072f-5 -0.00016993398 … -0.00015541483 -0.00077594427;;; 0.00013826737 0.000115723706 … 0.00011802131 0.0001316791; 0.00013615836 -0.00027138685 … 8.685004f-5 1.714636f-5; … ; 0.00014004153 -0.00036977022 … 6.753463f-5 -5.0528768f-5; -0.0011497746 0.0036635515 … 0.0028219773 -0.0023272522;;; -0.0001506513 0.0025513389 … 0.013916452 0.0038791362; -0.00020102541 -7.9935315f-5 … 0.020108072 -0.0023224896; … ; -0.00026849992 0.00019959376 … 0.008883754 0.0015134758; 0.0004262536 -7.308085f-6 … -0.00016709267 -0.00089293433;;;;], Float32[-0.0 0.0 … 0.0 -0.0; -0.0058695637 -0.004047429 … 0.0 -0.0057172896; … ; -0.0033602468 -0.0044284794 … 0.0 -0.017709961; -0.020279253 -0.01051104 … 0.008088614 -0.046105165;;; 0.012947638 -0.030514054 … 0.0031665827 -0.008171815; 0.014756308 -0.0 … -0.041612983 0.00085828855; … ; -0.0042176503 -0.051621296 … 0.046478283 0.013730884; -0.011745343 0.0013741349 … 0.00054276973 0.0;;; -0.0 -0.0 … -0.0012663911 0.0030782137; -0.0 -0.0 … 0.0 0.0; … ; 0.0 0.0 … 0.0 -0.0; -0.0 -0.0 … 0.0 0.0;;; … ;;; -5.005967f-5 0.008730511 … -0.0 0.0; -0.0 0.0 … -0.0 -0.0; … ; -0.0 -0.0 … 0.0016052473 0.0; -0.0 0.0 … 0.0 -0.003226054;;; 0.0 0.0 … -0.0 -0.0; -0.0 0.0 … -0.0 0.0; … ; -0.0 -0.0 … -0.0 0.0; -0.004189839 0.011458475 … 0.012462442 -0.006705593;;; -0.0 0.0039103534 … 0.012381735 0.0040549017; 0.0 -0.0 … 0.022974262 -0.003945226; … ; 0.0 -0.0 … 0.011727343 0.0034769531; 0.0 0.0 … -0.0 -0.0018064198;;;;], Float32[0.0010927747 -0.016118295 … -0.011937548 0.007703078; -0.00011105746 0.11322604 … -0.017908858 0.010782454; … ; -0.0012326507 0.009876464 … -0.07174363 0.003811402; -0.0026574081 -0.0026970368 … -0.0008546521 -0.0;;; -0.0003144759 -0.010580755 … -0.002351075 -0.020194862; -0.0058664656 -0.020833854 … -0.048248187 0.029669153; … ; -0.011259223 -0.13586803 … -0.04186316 -0.022296997; -0.011939806 0.34925503 … -0.013480545 -0.0048956736;;; 0.0036452173 -0.0 … -0.0 -0.0; 0.015173952 -0.0 … -4.2562726f-5 0.012279788; … ; 0.00031558695 -0.0 … 0.014075791 -0.01675584; -0.02049321 0.013252153 … -0.03866947 -0.00021933188;;; -0.0 -0.0 … -0.0 -0.0; 0.0030468816 -0.0 … -0.0 -0.0037209506; … ; -0.0 -0.0 … -0.0 0.0022022922; -0.0 -0.0011594192 … -0.0 0.0080001205;;; 0.0 0.0 … 0.0 0.0; 0.0 0.0 … 0.0 0.0; … ; 0.0 0.0 … 0.0 0.0; 0.0 0.0 … 0.0 0.0;;; 0.0 0.0 … 0.0 0.0; 0.0 0.0 … 0.0 0.0; … ; 0.0 0.0 … 0.0022256859 0.0; 0.0 0.0 … 0.0 0.0;;; 0.0 -0.0 … 0.0 0.0; 0.0 -0.0 … 0.0 -0.0; … ; -0.0 -0.0 … 0.0 -0.0; -0.0 -0.0 … 0.0 0.0;;; 0.0 0.0 … 0.0 0.0; 0.0 0.0 … 0.0 0.0; … ; 0.0 0.0 … 0.0 0.0; 0.0012519654 0.0 … 0.0 -0.0005140514;;;;], Float32[0.0018613564 -0.001458842 … -0.0010409317 0.006553172; -0.00011443061 0.009346651 … -0.004108121 0.0092732785; … ; -0.0021234807 0.014009043 … -0.0068158507 0.009440908; -0.0031028087 -0.0004754735 … -0.0006315023 0.0;;; -0.00022992695 0.0046351403 … -0.009527116 -0.013057708; -0.0028507519 0.04023578 … -0.00050536805 0.02497617; … ; -0.01708376 -0.023090001 … -0.00056153926 -0.02432182; 0.016301239 0.07127363 … 0.008507397 0.008765387;;; 0.0021039697 -0.0 … -0.0 0.0; 0.015190878 0.0 … 0.00053832814 0.007327873; … ; 0.004949708 0.0 … 0.013924207 -0.00484184; -0.014303025 0.00924686 … -0.029278908 -0.0034771732;;; -0.0 0.0 … -0.0 0.0; 0.0036759172 0.0 … -0.0 -0.001483431; … ; -0.0 0.0 … 0.0 0.009642244; 0.0 0.0003968158 … 0.0 0.005608456;;; -0.0 0.0 … -0.0 0.0; -0.0 -0.0 … 0.0 -0.0; … ; 0.0 -0.0 … 0.0 0.0; -0.0 -0.0 … -0.0 0.0;;; -0.0 -0.0 … -0.0 -0.0; 0.0 0.0 … 0.0 0.0; … ; -0.0 -0.0 … 0.0046611032 0.0; -0.0 -0.0 … 0.0 -0.0;;; 0.0 -0.0 … 0.0 0.0; 0.0 -0.0 … 0.0 -0.0; … ; -0.0 -0.0 … 0.0 -0.0; -0.0 -0.0 … 0.0 0.0;;; -0.0 0.0 … -0.0 0.0; 0.0 0.0 … -0.0 0.0; … ; -0.0 0.0 … 0.0 -0.0; 0.0010952946 0.0 … -0.0 -0.0006509866;;;;], Float32[0.0018613564; -0.00011443061; … ; -0.0; -0.0006509866;;], Float32[-0.0; 0.0; … ; 0.0; -0.0;;], Float32[-0.0; 0.0; … ; 0.0; -0.0;;], Float32[0.0; 0.0; … ; 0.0; 0.0;;])"
     },
     "metadata": {},
     "execution_count": 9
    }
   ],
   "cell_type": "code",
   "source": [
    "input = rand(Float32, 32, 32, 3, 1) # dummy input for our convolutional neural network\n",
    "\n",
    "expl = analyze(input, analyzer; layerwise_relevances=true)\n",
    "expl.extras.layerwise_relevances"
   ],
   "metadata": {},
   "execution_count": 9
  },
  {
   "cell_type": "markdown",
   "source": [
    "Note that the layerwise relevances are only kept for layers in the outermost `Chain` of the model.\n",
    "When using our unflattened model, we only obtain three layerwise relevances,\n",
    "one for each chain in the model and the output relevance:"
   ],
   "metadata": {}
  },
  {
   "outputs": [
    {
     "output_type": "execute_result",
     "data": {
      "text/plain": "(Float32[0.060104035 -0.8078288 … 0.15099467 -0.70166117; -0.47304076 0.4945041 … -0.19460098 -0.8991918; … ; -0.35542247 -3.4041169 … 0.09911165 0.24587055; -0.8274368 3.3449185 … 1.0177108 1.0127835;;; -0.13354614 0.33315375 … -0.8842171 -0.43394008; -0.31220326 -2.4501493 … -1.8533826 -1.5877122; … ; 1.9962034 -3.0410516 … 0.020651238 1.0848294; 0.6469704 -0.11143493 … -2.2207406 0.105351456;;; -3.086378 -0.4464456 … 0.72077656 -0.038575895; -4.485055 -2.9229586 … -1.3907773 -4.8024087; … ; -2.2664926 -0.7395576 … -2.3362696 0.5090268; -0.67103815 -1.823795 … 1.1178349 0.040637564;;;;], Float32[0.002008307 -0.0020028097 … -0.00036910138 0.0051089367; -0.0 0.008754197 … -0.0060290108 0.012515213; … ; -0.0016755657 0.016291553 … -0.0040241024 0.011310169; -0.001811729 0.00086323556 … -0.00054426485 -0.0;;; 0.0 0.0051561464 … -0.004387582 -0.012350066; -0.0018317319 0.036717292 … -0.001998615 0.01676432; … ; -0.01487388 -0.026447367 … 0.001423164 -0.015896378; 0.012733692 0.058719087 … 0.0083106235 0.0076705017;;; 0.0028097043 -0.0 … -0.0 0.0; 0.010955898 0.0 … 0.0 0.007078785; … ; 0.0068068057 -0.0 … 0.016275784 -0.0062418412; -0.010217431 0.009132301 … -0.029672438 -0.0026165661;;; -0.0 0.0 … -0.0 0.0; 0.006280383 0.0 … -0.0 -0.000474408; … ; -0.0 0.0 … 0.0 0.01111325; 0.0 -0.0002452876 … 0.0 0.004309509;;; -0.0 0.0 … -0.0 0.0001974786; -0.0 -0.0 … 0.0 -0.0; … ; 0.0 -0.0 … 0.0 0.0; -0.0 -0.0 … -0.0 0.0;;; -0.0 -0.0 … -0.0 -0.0; 0.0 0.0 … 0.0 0.0; … ; -0.0 -0.0 … 0.005958807 0.0; -0.0 -0.0 … 0.0 -0.0;;; 0.0 -0.0 … 0.0 0.0; 0.0 -0.0 … 0.0 -0.0; … ; -0.0 -0.0 … 0.0 -0.0; -0.0 -0.0 … 0.0 0.0;;; -0.0 0.0 … -0.0 0.0; 0.0 0.0 … -0.0 0.0; … ; 0.0 0.0 … 0.0 0.0; 0.0012478568 0.0 … -0.0 -0.0010891827;;;;], Float32[0.0; 0.0; … ; 0.0; 0.0;;])"
     },
     "metadata": {},
     "execution_count": 10
    }
   ],
   "cell_type": "code",
   "source": [
    "analyzer = LRP(model; flatten=false) # use unflattened model\n",
    "\n",
    "expl = analyze(input, analyzer; layerwise_relevances=true)\n",
    "expl.extras.layerwise_relevances"
   ],
   "metadata": {},
   "execution_count": 10
  },
  {
   "cell_type": "markdown",
   "source": [
    "## Performance tips\n",
    "### Using LRP with a GPU\n",
    "All LRP analyzers support GPU backends,\n",
    "building on top of [Flux.jl's GPU support](https://fluxml.ai/Flux.jl/stable/gpu/).\n",
    "Using a GPU only requires moving the input array and model weights to the GPU.\n",
    "\n",
    "For example, using [CUDA.jl](https://github.com/JuliaGPU/CUDA.jl):"
   ],
   "metadata": {}
  },
  {
   "cell_type": "markdown",
   "source": [
    "```julia\n",
    "using CUDA, cuDNN\n",
    "using Flux\n",
    "using ExplainableAI\n",
    "\n",
    "# move input array and model weights to GPU\n",
    "input = input |> gpu # or gpu(input)\n",
    "model = model |> gpu # or gpu(model)\n",
    "\n",
    "# analyzers don't require calling `gpu`\n",
    "analyzer = LRP(model)\n",
    "\n",
    "# explanations are computed on the GPU\n",
    "expl = analyze(input, analyzer)\n",
    "```"
   ],
   "metadata": {}
  },
  {
   "cell_type": "markdown",
   "source": [
    "Some operations, like saving, require moving explanations back to the CPU.\n",
    "This can be done using Flux's `cpu` function:"
   ],
   "metadata": {}
  },
  {
   "cell_type": "markdown",
   "source": [
    "```julia\n",
    "val = expl.val |> cpu # or cpu(expl.val)\n",
    "\n",
    "using BSON\n",
    "BSON.@save \"explanation.bson\" val\n",
    "```\n",
    "\n",
    "### Using LRP without a GPU\n",
    "Using Julia's package extension mechanism,\n",
    "RelevancePropagation.jl's LRP implementation can optionally make use of\n",
    "[Tullio.jl](https://github.com/mcabbott/Tullio.jl) and\n",
    "[LoopVectorization.jl](https://github.com/JuliaSIMD/LoopVectorization.jl)\n",
    "for faster LRP rules on dense layers.\n",
    "\n",
    "This only requires loading the packages before loading RelevancePropagation.jl:\n",
    "```julia\n",
    "using LoopVectorization, Tullio\n",
    "using RelevancePropagation\n",
    "```\n",
    "\n",
    "[^1]: G. Montavon et al., [Layer-Wise Relevance Propagation: An Overview](https://link.springer.com/chapter/10.1007/978-3-030-28954-6_10)"
   ],
   "metadata": {}
  },
  {
   "cell_type": "markdown",
   "source": [
    "---\n",
    "\n",
    "*This notebook was generated using [Literate.jl](https://github.com/fredrikekre/Literate.jl).*"
   ],
   "metadata": {}
  }
 ],
 "nbformat_minor": 3,
 "metadata": {
  "language_info": {
   "file_extension": ".jl",
   "mimetype": "application/julia",
   "name": "julia",
   "version": "1.10.0"
  },
  "kernelspec": {
   "name": "julia-1.10",
   "display_name": "Julia 1.10.0",
   "language": "julia"
  }
 },
 "nbformat": 4
}
